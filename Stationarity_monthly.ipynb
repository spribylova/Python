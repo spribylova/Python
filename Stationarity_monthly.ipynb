{
  "cells": [
    {
      "metadata": {
        "trusted": false,
        "id": "c36296e1"
      },
      "id": "c36296e1",
      "cell_type": "code",
      "source": [
        "# Stationarity Time Series Tests - Monthly UBS Stocks data\n",
        "\n",
        "\n",
        "# Stationary series -  is a stochastic process whose unconditional joint probability distribution does not change when shifted in time.\n",
        "# Examples of stationary series are: stock prices, coin flips, white noise, ...\n",
        "# Weak stationarity only requires the shift-invariance (in time) of the first moment and the cross moment (the auto-covariance).\n",
        "# Strong stationarity requires the shift-invariance (in time) of the finite-dimensional distributions of a stochastic process.\n",
        "# Perform the test and decide if the provided UBS time series is stationary or not. \n",
        "\n",
        "\n",
        "# Unit root - feature of some stochastic processes (such as random walks) that can cause problems in statistical inference involving time series models. In a simple term, the unit root is non-stationary but does not always have a trend component.\n",
        "# Test - this is the result of test. We compare it to critical values.  \n",
        "# In the case series is not stationary, we must detrend it.\n",
        "# p-value - The p-value reported by the test is the probability score based on which you can decide whether to reject the null hypothesis or not. If the p-value is less than a predefined alpha level (typically 0.05), we reject the null hypothesis.\n",
        "# Lags used - a number of lags included, where n is the length of the series.\n",
        "# Number of observations used - number of rows.\n",
        "# Critical value 1% - alpha = 0.01 implies that the null hypothesis is rejected 1 % of the time when it is in fact true.\n",
        "# Critical value 5% - alpha = 0.05 implies that the null hypothesis is rejected 5 % of the time when it is in fact true.\n",
        "# Critical value 10% - alpha = 0.1 implies that the null hypothesis is rejected 10 % of the time when it is in fact true.\n"
      ],
      "execution_count": null,
      "outputs": []
    },
    {
      "cell_type": "code",
      "source": [
        "# Install and import the needed libraries"
      ],
      "metadata": {
        "id": "7xpgfEIN5noJ"
      },
      "id": "7xpgfEIN5noJ",
      "execution_count": 50,
      "outputs": []
    },
    {
      "metadata": {
        "trusted": false,
        "colab": {
          "base_uri": "https://localhost:8080/"
        },
        "id": "963e7f01",
        "outputId": "dd4d41cb-028e-45d2-f47d-c01de2423959"
      },
      "id": "963e7f01",
      "cell_type": "code",
      "source": [
        "pip install pandas-datareader"
      ],
      "execution_count": 51,
      "outputs": [
        {
          "output_type": "stream",
          "name": "stdout",
          "text": [
            "Requirement already satisfied: pandas-datareader in /usr/local/lib/python3.7/dist-packages (0.9.0)\n",
            "Requirement already satisfied: pandas>=0.23 in /usr/local/lib/python3.7/dist-packages (from pandas-datareader) (1.3.5)\n",
            "Requirement already satisfied: requests>=2.19.0 in /usr/local/lib/python3.7/dist-packages (from pandas-datareader) (2.23.0)\n",
            "Requirement already satisfied: lxml in /usr/local/lib/python3.7/dist-packages (from pandas-datareader) (4.2.6)\n",
            "Requirement already satisfied: python-dateutil>=2.7.3 in /usr/local/lib/python3.7/dist-packages (from pandas>=0.23->pandas-datareader) (2.8.2)\n",
            "Requirement already satisfied: numpy>=1.17.3 in /usr/local/lib/python3.7/dist-packages (from pandas>=0.23->pandas-datareader) (1.21.5)\n",
            "Requirement already satisfied: pytz>=2017.3 in /usr/local/lib/python3.7/dist-packages (from pandas>=0.23->pandas-datareader) (2018.9)\n",
            "Requirement already satisfied: six>=1.5 in /usr/local/lib/python3.7/dist-packages (from python-dateutil>=2.7.3->pandas>=0.23->pandas-datareader) (1.15.0)\n",
            "Requirement already satisfied: certifi>=2017.4.17 in /usr/local/lib/python3.7/dist-packages (from requests>=2.19.0->pandas-datareader) (2021.10.8)\n",
            "Requirement already satisfied: urllib3!=1.25.0,!=1.25.1,<1.26,>=1.21.1 in /usr/local/lib/python3.7/dist-packages (from requests>=2.19.0->pandas-datareader) (1.24.3)\n",
            "Requirement already satisfied: idna<3,>=2.5 in /usr/local/lib/python3.7/dist-packages (from requests>=2.19.0->pandas-datareader) (2.10)\n",
            "Requirement already satisfied: chardet<4,>=3.0.2 in /usr/local/lib/python3.7/dist-packages (from requests>=2.19.0->pandas-datareader) (3.0.4)\n"
          ]
        }
      ]
    },
    {
      "metadata": {
        "trusted": false,
        "id": "31ad9eaf"
      },
      "id": "31ad9eaf",
      "cell_type": "code",
      "source": [
        "import pandas_datareader.data as web\n",
        "import datetime"
      ],
      "execution_count": 52,
      "outputs": []
    },
    {
      "metadata": {
        "trusted": false,
        "id": "ca3cb03a"
      },
      "id": "ca3cb03a",
      "cell_type": "code",
      "source": [
        "import pandas as pd \n",
        "pd.set_option('display.max_columns', None)\n",
        "pd.set_option('display.max_rows', None)"
      ],
      "execution_count": 53,
      "outputs": []
    },
    {
      "metadata": {
        "trusted": false,
        "colab": {
          "base_uri": "https://localhost:8080/"
        },
        "id": "a8768f53",
        "outputId": "f70c426e-ab00-4755-b4c1-c28ad52696cd"
      },
      "id": "a8768f53",
      "cell_type": "code",
      "source": [
        "pip install seaborn"
      ],
      "execution_count": 54,
      "outputs": [
        {
          "output_type": "stream",
          "name": "stdout",
          "text": [
            "Requirement already satisfied: seaborn in /usr/local/lib/python3.7/dist-packages (0.11.2)\n",
            "Requirement already satisfied: numpy>=1.15 in /usr/local/lib/python3.7/dist-packages (from seaborn) (1.21.5)\n",
            "Requirement already satisfied: scipy>=1.0 in /usr/local/lib/python3.7/dist-packages (from seaborn) (1.4.1)\n",
            "Requirement already satisfied: pandas>=0.23 in /usr/local/lib/python3.7/dist-packages (from seaborn) (1.3.5)\n",
            "Requirement already satisfied: matplotlib>=2.2 in /usr/local/lib/python3.7/dist-packages (from seaborn) (3.2.2)\n",
            "Requirement already satisfied: cycler>=0.10 in /usr/local/lib/python3.7/dist-packages (from matplotlib>=2.2->seaborn) (0.11.0)\n",
            "Requirement already satisfied: pyparsing!=2.0.4,!=2.1.2,!=2.1.6,>=2.0.1 in /usr/local/lib/python3.7/dist-packages (from matplotlib>=2.2->seaborn) (3.0.7)\n",
            "Requirement already satisfied: python-dateutil>=2.1 in /usr/local/lib/python3.7/dist-packages (from matplotlib>=2.2->seaborn) (2.8.2)\n",
            "Requirement already satisfied: kiwisolver>=1.0.1 in /usr/local/lib/python3.7/dist-packages (from matplotlib>=2.2->seaborn) (1.4.0)\n",
            "Requirement already satisfied: typing-extensions in /usr/local/lib/python3.7/dist-packages (from kiwisolver>=1.0.1->matplotlib>=2.2->seaborn) (3.10.0.2)\n",
            "Requirement already satisfied: pytz>=2017.3 in /usr/local/lib/python3.7/dist-packages (from pandas>=0.23->seaborn) (2018.9)\n",
            "Requirement already satisfied: six>=1.5 in /usr/local/lib/python3.7/dist-packages (from python-dateutil>=2.1->matplotlib>=2.2->seaborn) (1.15.0)\n"
          ]
        }
      ]
    },
    {
      "metadata": {
        "trusted": false,
        "id": "0bfca4e1"
      },
      "id": "0bfca4e1",
      "cell_type": "code",
      "source": [
        "import seaborn as sns"
      ],
      "execution_count": 55,
      "outputs": []
    },
    {
      "metadata": {
        "trusted": false,
        "id": "71b49b1f"
      },
      "id": "71b49b1f",
      "cell_type": "code",
      "source": [
        "sns.set()"
      ],
      "execution_count": 56,
      "outputs": []
    },
    {
      "metadata": {
        "trusted": false,
        "colab": {
          "base_uri": "https://localhost:8080/"
        },
        "id": "daf4669d",
        "outputId": "97812d2c-723a-4a1d-db17-201d653a118c"
      },
      "id": "daf4669d",
      "cell_type": "code",
      "source": [
        "pip install statsmodels"
      ],
      "execution_count": 57,
      "outputs": [
        {
          "output_type": "stream",
          "name": "stdout",
          "text": [
            "Requirement already satisfied: statsmodels in /usr/local/lib/python3.7/dist-packages (0.10.2)\n",
            "Requirement already satisfied: pandas>=0.19 in /usr/local/lib/python3.7/dist-packages (from statsmodels) (1.3.5)\n",
            "Requirement already satisfied: scipy>=0.18 in /usr/local/lib/python3.7/dist-packages (from statsmodels) (1.4.1)\n",
            "Requirement already satisfied: patsy>=0.4.0 in /usr/local/lib/python3.7/dist-packages (from statsmodels) (0.5.2)\n",
            "Requirement already satisfied: numpy>=1.11 in /usr/local/lib/python3.7/dist-packages (from statsmodels) (1.21.5)\n",
            "Requirement already satisfied: pytz>=2017.3 in /usr/local/lib/python3.7/dist-packages (from pandas>=0.19->statsmodels) (2018.9)\n",
            "Requirement already satisfied: python-dateutil>=2.7.3 in /usr/local/lib/python3.7/dist-packages (from pandas>=0.19->statsmodels) (2.8.2)\n",
            "Requirement already satisfied: six in /usr/local/lib/python3.7/dist-packages (from patsy>=0.4.0->statsmodels) (1.15.0)\n"
          ]
        }
      ]
    },
    {
      "metadata": {
        "trusted": false,
        "id": "692bc4b6"
      },
      "id": "692bc4b6",
      "cell_type": "code",
      "source": [
        "import numpy as np\n",
        "import matplotlib.pyplot as plt\n",
        "%matplotlib inline"
      ],
      "execution_count": 11,
      "outputs": []
    },
    {
      "cell_type": "code",
      "source": [
        "# re is the library to remove and replace the not needed characters "
      ],
      "metadata": {
        "id": "APbvKFDO6F-y"
      },
      "id": "APbvKFDO6F-y",
      "execution_count": null,
      "outputs": []
    },
    {
      "cell_type": "code",
      "source": [
        "import re"
      ],
      "metadata": {
        "id": "Q2scn9IM78e1"
      },
      "id": "Q2scn9IM78e1",
      "execution_count": 12,
      "outputs": []
    },
    {
      "cell_type": "code",
      "source": [
        "chars_to_remove = [',']"
      ],
      "metadata": {
        "id": "AJl_KQgO7-a9"
      },
      "id": "AJl_KQgO7-a9",
      "execution_count": 13,
      "outputs": []
    },
    {
      "cell_type": "code",
      "source": [
        "regular_expression = '[' + re.escape (''. join (chars_to_remove)) + ']'"
      ],
      "metadata": {
        "id": "3I6tmdIe8EjL"
      },
      "id": "3I6tmdIe8EjL",
      "execution_count": 14,
      "outputs": []
    },
    {
      "cell_type": "code",
      "source": [
        "# upload the monthly data in csv format to data frame\n",
        "# https://www.kaggle.com/datasets/spribylova/monthly-ubs-stocks"
      ],
      "metadata": {
        "id": "d1It_GZH7ryN"
      },
      "id": "d1It_GZH7ryN",
      "execution_count": 98,
      "outputs": []
    },
    {
      "cell_type": "code",
      "source": [
        "UBS_volume_m = pd.read_csv(\"UBS_volume_m.csv\", index_col=0, parse_dates=True)\n",
        "UBS_volume_m.head()\n",
        "\n",
        "# Open high low (OHL) strategy refers to an intraday trading strategy.\n",
        "# This serves as an indication a trader must buy a stock.\n",
        "# Most Active (Volume) helps you identify the stocks with highest trading volume during the day. \n",
        "# Most active stocks offers high liquidity and lower bid-ask.\n",
        "# Volume -  The current month's trading volume.\n",
        "# Low - The current month's low price.\n",
        "# High - The current month's low price.\n",
        "# Open - The opening price for the specified month."
      ],
      "metadata": {
        "colab": {
          "base_uri": "https://localhost:8080/",
          "height": 235
        },
        "id": "c3CyzTCABl1e",
        "outputId": "4e6c0484-3b8e-4c61-d675-58c0fc382a48"
      },
      "id": "c3CyzTCABl1e",
      "execution_count": 59,
      "outputs": [
        {
          "output_type": "execute_result",
          "data": {
            "text/plain": [
              "             Open   High    Low  Close       Volume\n",
              "Date                                               \n",
              "2019-01-01  12.22  13.54  12.04  12.85  288,360,058\n",
              "2020-01-01  12.27  12.88  11.93  12.00  407,893,788\n",
              "2021-01-01  12.63  13.81  12.52  12.88  281,886,722\n",
              "2022-01-01  16.43  18.00  16.38  17.10  190,959,295\n",
              "2018-02-01  19.05  19.20  17.09  18.07  212,872,180"
            ],
            "text/html": [
              "\n",
              "  <div id=\"df-4ae3c6dc-32a8-48a8-be2e-d93f494d8efd\">\n",
              "    <div class=\"colab-df-container\">\n",
              "      <div>\n",
              "<style scoped>\n",
              "    .dataframe tbody tr th:only-of-type {\n",
              "        vertical-align: middle;\n",
              "    }\n",
              "\n",
              "    .dataframe tbody tr th {\n",
              "        vertical-align: top;\n",
              "    }\n",
              "\n",
              "    .dataframe thead th {\n",
              "        text-align: right;\n",
              "    }\n",
              "</style>\n",
              "<table border=\"1\" class=\"dataframe\">\n",
              "  <thead>\n",
              "    <tr style=\"text-align: right;\">\n",
              "      <th></th>\n",
              "      <th>Open</th>\n",
              "      <th>High</th>\n",
              "      <th>Low</th>\n",
              "      <th>Close</th>\n",
              "      <th>Volume</th>\n",
              "    </tr>\n",
              "    <tr>\n",
              "      <th>Date</th>\n",
              "      <th></th>\n",
              "      <th></th>\n",
              "      <th></th>\n",
              "      <th></th>\n",
              "      <th></th>\n",
              "    </tr>\n",
              "  </thead>\n",
              "  <tbody>\n",
              "    <tr>\n",
              "      <th>2019-01-01</th>\n",
              "      <td>12.22</td>\n",
              "      <td>13.54</td>\n",
              "      <td>12.04</td>\n",
              "      <td>12.85</td>\n",
              "      <td>288,360,058</td>\n",
              "    </tr>\n",
              "    <tr>\n",
              "      <th>2020-01-01</th>\n",
              "      <td>12.27</td>\n",
              "      <td>12.88</td>\n",
              "      <td>11.93</td>\n",
              "      <td>12.00</td>\n",
              "      <td>407,893,788</td>\n",
              "    </tr>\n",
              "    <tr>\n",
              "      <th>2021-01-01</th>\n",
              "      <td>12.63</td>\n",
              "      <td>13.81</td>\n",
              "      <td>12.52</td>\n",
              "      <td>12.88</td>\n",
              "      <td>281,886,722</td>\n",
              "    </tr>\n",
              "    <tr>\n",
              "      <th>2022-01-01</th>\n",
              "      <td>16.43</td>\n",
              "      <td>18.00</td>\n",
              "      <td>16.38</td>\n",
              "      <td>17.10</td>\n",
              "      <td>190,959,295</td>\n",
              "    </tr>\n",
              "    <tr>\n",
              "      <th>2018-02-01</th>\n",
              "      <td>19.05</td>\n",
              "      <td>19.20</td>\n",
              "      <td>17.09</td>\n",
              "      <td>18.07</td>\n",
              "      <td>212,872,180</td>\n",
              "    </tr>\n",
              "  </tbody>\n",
              "</table>\n",
              "</div>\n",
              "      <button class=\"colab-df-convert\" onclick=\"convertToInteractive('df-4ae3c6dc-32a8-48a8-be2e-d93f494d8efd')\"\n",
              "              title=\"Convert this dataframe to an interactive table.\"\n",
              "              style=\"display:none;\">\n",
              "        \n",
              "  <svg xmlns=\"http://www.w3.org/2000/svg\" height=\"24px\"viewBox=\"0 0 24 24\"\n",
              "       width=\"24px\">\n",
              "    <path d=\"M0 0h24v24H0V0z\" fill=\"none\"/>\n",
              "    <path d=\"M18.56 5.44l.94 2.06.94-2.06 2.06-.94-2.06-.94-.94-2.06-.94 2.06-2.06.94zm-11 1L8.5 8.5l.94-2.06 2.06-.94-2.06-.94L8.5 2.5l-.94 2.06-2.06.94zm10 10l.94 2.06.94-2.06 2.06-.94-2.06-.94-.94-2.06-.94 2.06-2.06.94z\"/><path d=\"M17.41 7.96l-1.37-1.37c-.4-.4-.92-.59-1.43-.59-.52 0-1.04.2-1.43.59L10.3 9.45l-7.72 7.72c-.78.78-.78 2.05 0 2.83L4 21.41c.39.39.9.59 1.41.59.51 0 1.02-.2 1.41-.59l7.78-7.78 2.81-2.81c.8-.78.8-2.07 0-2.86zM5.41 20L4 18.59l7.72-7.72 1.47 1.35L5.41 20z\"/>\n",
              "  </svg>\n",
              "      </button>\n",
              "      \n",
              "  <style>\n",
              "    .colab-df-container {\n",
              "      display:flex;\n",
              "      flex-wrap:wrap;\n",
              "      gap: 12px;\n",
              "    }\n",
              "\n",
              "    .colab-df-convert {\n",
              "      background-color: #E8F0FE;\n",
              "      border: none;\n",
              "      border-radius: 50%;\n",
              "      cursor: pointer;\n",
              "      display: none;\n",
              "      fill: #1967D2;\n",
              "      height: 32px;\n",
              "      padding: 0 0 0 0;\n",
              "      width: 32px;\n",
              "    }\n",
              "\n",
              "    .colab-df-convert:hover {\n",
              "      background-color: #E2EBFA;\n",
              "      box-shadow: 0px 1px 2px rgba(60, 64, 67, 0.3), 0px 1px 3px 1px rgba(60, 64, 67, 0.15);\n",
              "      fill: #174EA6;\n",
              "    }\n",
              "\n",
              "    [theme=dark] .colab-df-convert {\n",
              "      background-color: #3B4455;\n",
              "      fill: #D2E3FC;\n",
              "    }\n",
              "\n",
              "    [theme=dark] .colab-df-convert:hover {\n",
              "      background-color: #434B5C;\n",
              "      box-shadow: 0px 1px 3px 1px rgba(0, 0, 0, 0.15);\n",
              "      filter: drop-shadow(0px 1px 2px rgba(0, 0, 0, 0.3));\n",
              "      fill: #FFFFFF;\n",
              "    }\n",
              "  </style>\n",
              "\n",
              "      <script>\n",
              "        const buttonEl =\n",
              "          document.querySelector('#df-4ae3c6dc-32a8-48a8-be2e-d93f494d8efd button.colab-df-convert');\n",
              "        buttonEl.style.display =\n",
              "          google.colab.kernel.accessAllowed ? 'block' : 'none';\n",
              "\n",
              "        async function convertToInteractive(key) {\n",
              "          const element = document.querySelector('#df-4ae3c6dc-32a8-48a8-be2e-d93f494d8efd');\n",
              "          const dataTable =\n",
              "            await google.colab.kernel.invokeFunction('convertToInteractive',\n",
              "                                                     [key], {});\n",
              "          if (!dataTable) return;\n",
              "\n",
              "          const docLinkHtml = 'Like what you see? Visit the ' +\n",
              "            '<a target=\"_blank\" href=https://colab.research.google.com/notebooks/data_table.ipynb>data table notebook</a>'\n",
              "            + ' to learn more about interactive tables.';\n",
              "          element.innerHTML = '';\n",
              "          dataTable['output_type'] = 'display_data';\n",
              "          await google.colab.output.renderOutput(dataTable, element);\n",
              "          const docLink = document.createElement('div');\n",
              "          docLink.innerHTML = docLinkHtml;\n",
              "          element.appendChild(docLink);\n",
              "        }\n",
              "      </script>\n",
              "    </div>\n",
              "  </div>\n",
              "  "
            ]
          },
          "metadata": {},
          "execution_count": 59
        }
      ]
    },
    {
      "cell_type": "code",
      "source": [
        "UBS_volume_m=UBS_volume_m.groupby(['Date'])['Volume'].sum().reset_index() "
      ],
      "metadata": {
        "id": "Np6qrGNiHO-U"
      },
      "id": "Np6qrGNiHO-U",
      "execution_count": 60,
      "outputs": []
    },
    {
      "cell_type": "code",
      "source": [
        "UBS_volume_m"
      ],
      "metadata": {
        "colab": {
          "base_uri": "https://localhost:8080/",
          "height": 1000
        },
        "id": "1q78Z_qTHPLG",
        "outputId": "511538ce-fbcf-4d07-8076-4061def7535b"
      },
      "id": "1q78Z_qTHPLG",
      "execution_count": 61,
      "outputs": [
        {
          "output_type": "execute_result",
          "data": {
            "text/plain": [
              "         Date       Volume\n",
              "0  2018-02-01  212,872,180\n",
              "1  2018-03-01  273,193,341\n",
              "2  2018-04-01  273,653,003\n",
              "3  2018-05-01  305,739,793\n",
              "4  2018-06-01  324,318,650\n",
              "5  2018-07-01  258,869,502\n",
              "6  2018-08-01  178,265,280\n",
              "7  2018-09-01  241,667,332\n",
              "8  2018-10-01  347,222,876\n",
              "9  2018-11-01  316,159,262\n",
              "10 2018-12-01  301,934,821\n",
              "11 2019-01-01  288,360,058\n",
              "12 2019-02-01  287,865,646\n",
              "13 2019-03-01  370,892,383\n",
              "14 2019-04-01  298,407,382\n",
              "15 2019-05-01  299,843,668\n",
              "16 2019-06-01  321,692,082\n",
              "17 2019-07-01  420,844,085\n",
              "18 2019-08-01  468,507,380\n",
              "19 2019-09-01  415,874,782\n",
              "20 2019-10-01  408,181,238\n",
              "21 2019-11-01  311,813,082\n",
              "22 2019-12-01  269,283,710\n",
              "23 2020-01-01  407,893,788\n",
              "24 2020-02-01  479,726,904\n",
              "25 2020-03-01  989,868,538\n",
              "26 2020-04-01  486,744,278\n",
              "27 2020-05-01  374,194,977\n",
              "28 2020-06-01  472,158,924\n",
              "29 2020-07-01  334,578,451\n",
              "30 2020-08-01  202,253,910\n",
              "31 2020-09-01  314,783,754\n",
              "32 2020-10-01  327,483,702\n",
              "33 2020-11-01  440,714,823\n",
              "34 2020-12-01  266,283,673\n",
              "35 2021-01-01  281,886,722\n",
              "36 2021-02-01  230,527,203\n",
              "37 2021-03-01  339,743,708\n",
              "38 2021-04-01  231,142,335\n",
              "39 2021-05-01  194,234,751\n",
              "40 2021-06-01  192,627,342\n",
              "41 2021-07-01  189,626,495\n",
              "42 2021-08-01  141,361,235\n",
              "43 2021-09-01  177,614,207\n",
              "44 2021-10-01  174,650,224\n",
              "45 2021-11-01  207,350,083\n",
              "46 2021-12-01  153,420,587\n",
              "47 2022-01-01  190,959,295\n",
              "48 2022-02-01  282,214,635\n",
              "49 2022-03-01  299,903,621"
            ],
            "text/html": [
              "\n",
              "  <div id=\"df-76f6a692-315f-4fa7-894b-94a4e2eb0014\">\n",
              "    <div class=\"colab-df-container\">\n",
              "      <div>\n",
              "<style scoped>\n",
              "    .dataframe tbody tr th:only-of-type {\n",
              "        vertical-align: middle;\n",
              "    }\n",
              "\n",
              "    .dataframe tbody tr th {\n",
              "        vertical-align: top;\n",
              "    }\n",
              "\n",
              "    .dataframe thead th {\n",
              "        text-align: right;\n",
              "    }\n",
              "</style>\n",
              "<table border=\"1\" class=\"dataframe\">\n",
              "  <thead>\n",
              "    <tr style=\"text-align: right;\">\n",
              "      <th></th>\n",
              "      <th>Date</th>\n",
              "      <th>Volume</th>\n",
              "    </tr>\n",
              "  </thead>\n",
              "  <tbody>\n",
              "    <tr>\n",
              "      <th>0</th>\n",
              "      <td>2018-02-01</td>\n",
              "      <td>212,872,180</td>\n",
              "    </tr>\n",
              "    <tr>\n",
              "      <th>1</th>\n",
              "      <td>2018-03-01</td>\n",
              "      <td>273,193,341</td>\n",
              "    </tr>\n",
              "    <tr>\n",
              "      <th>2</th>\n",
              "      <td>2018-04-01</td>\n",
              "      <td>273,653,003</td>\n",
              "    </tr>\n",
              "    <tr>\n",
              "      <th>3</th>\n",
              "      <td>2018-05-01</td>\n",
              "      <td>305,739,793</td>\n",
              "    </tr>\n",
              "    <tr>\n",
              "      <th>4</th>\n",
              "      <td>2018-06-01</td>\n",
              "      <td>324,318,650</td>\n",
              "    </tr>\n",
              "    <tr>\n",
              "      <th>5</th>\n",
              "      <td>2018-07-01</td>\n",
              "      <td>258,869,502</td>\n",
              "    </tr>\n",
              "    <tr>\n",
              "      <th>6</th>\n",
              "      <td>2018-08-01</td>\n",
              "      <td>178,265,280</td>\n",
              "    </tr>\n",
              "    <tr>\n",
              "      <th>7</th>\n",
              "      <td>2018-09-01</td>\n",
              "      <td>241,667,332</td>\n",
              "    </tr>\n",
              "    <tr>\n",
              "      <th>8</th>\n",
              "      <td>2018-10-01</td>\n",
              "      <td>347,222,876</td>\n",
              "    </tr>\n",
              "    <tr>\n",
              "      <th>9</th>\n",
              "      <td>2018-11-01</td>\n",
              "      <td>316,159,262</td>\n",
              "    </tr>\n",
              "    <tr>\n",
              "      <th>10</th>\n",
              "      <td>2018-12-01</td>\n",
              "      <td>301,934,821</td>\n",
              "    </tr>\n",
              "    <tr>\n",
              "      <th>11</th>\n",
              "      <td>2019-01-01</td>\n",
              "      <td>288,360,058</td>\n",
              "    </tr>\n",
              "    <tr>\n",
              "      <th>12</th>\n",
              "      <td>2019-02-01</td>\n",
              "      <td>287,865,646</td>\n",
              "    </tr>\n",
              "    <tr>\n",
              "      <th>13</th>\n",
              "      <td>2019-03-01</td>\n",
              "      <td>370,892,383</td>\n",
              "    </tr>\n",
              "    <tr>\n",
              "      <th>14</th>\n",
              "      <td>2019-04-01</td>\n",
              "      <td>298,407,382</td>\n",
              "    </tr>\n",
              "    <tr>\n",
              "      <th>15</th>\n",
              "      <td>2019-05-01</td>\n",
              "      <td>299,843,668</td>\n",
              "    </tr>\n",
              "    <tr>\n",
              "      <th>16</th>\n",
              "      <td>2019-06-01</td>\n",
              "      <td>321,692,082</td>\n",
              "    </tr>\n",
              "    <tr>\n",
              "      <th>17</th>\n",
              "      <td>2019-07-01</td>\n",
              "      <td>420,844,085</td>\n",
              "    </tr>\n",
              "    <tr>\n",
              "      <th>18</th>\n",
              "      <td>2019-08-01</td>\n",
              "      <td>468,507,380</td>\n",
              "    </tr>\n",
              "    <tr>\n",
              "      <th>19</th>\n",
              "      <td>2019-09-01</td>\n",
              "      <td>415,874,782</td>\n",
              "    </tr>\n",
              "    <tr>\n",
              "      <th>20</th>\n",
              "      <td>2019-10-01</td>\n",
              "      <td>408,181,238</td>\n",
              "    </tr>\n",
              "    <tr>\n",
              "      <th>21</th>\n",
              "      <td>2019-11-01</td>\n",
              "      <td>311,813,082</td>\n",
              "    </tr>\n",
              "    <tr>\n",
              "      <th>22</th>\n",
              "      <td>2019-12-01</td>\n",
              "      <td>269,283,710</td>\n",
              "    </tr>\n",
              "    <tr>\n",
              "      <th>23</th>\n",
              "      <td>2020-01-01</td>\n",
              "      <td>407,893,788</td>\n",
              "    </tr>\n",
              "    <tr>\n",
              "      <th>24</th>\n",
              "      <td>2020-02-01</td>\n",
              "      <td>479,726,904</td>\n",
              "    </tr>\n",
              "    <tr>\n",
              "      <th>25</th>\n",
              "      <td>2020-03-01</td>\n",
              "      <td>989,868,538</td>\n",
              "    </tr>\n",
              "    <tr>\n",
              "      <th>26</th>\n",
              "      <td>2020-04-01</td>\n",
              "      <td>486,744,278</td>\n",
              "    </tr>\n",
              "    <tr>\n",
              "      <th>27</th>\n",
              "      <td>2020-05-01</td>\n",
              "      <td>374,194,977</td>\n",
              "    </tr>\n",
              "    <tr>\n",
              "      <th>28</th>\n",
              "      <td>2020-06-01</td>\n",
              "      <td>472,158,924</td>\n",
              "    </tr>\n",
              "    <tr>\n",
              "      <th>29</th>\n",
              "      <td>2020-07-01</td>\n",
              "      <td>334,578,451</td>\n",
              "    </tr>\n",
              "    <tr>\n",
              "      <th>30</th>\n",
              "      <td>2020-08-01</td>\n",
              "      <td>202,253,910</td>\n",
              "    </tr>\n",
              "    <tr>\n",
              "      <th>31</th>\n",
              "      <td>2020-09-01</td>\n",
              "      <td>314,783,754</td>\n",
              "    </tr>\n",
              "    <tr>\n",
              "      <th>32</th>\n",
              "      <td>2020-10-01</td>\n",
              "      <td>327,483,702</td>\n",
              "    </tr>\n",
              "    <tr>\n",
              "      <th>33</th>\n",
              "      <td>2020-11-01</td>\n",
              "      <td>440,714,823</td>\n",
              "    </tr>\n",
              "    <tr>\n",
              "      <th>34</th>\n",
              "      <td>2020-12-01</td>\n",
              "      <td>266,283,673</td>\n",
              "    </tr>\n",
              "    <tr>\n",
              "      <th>35</th>\n",
              "      <td>2021-01-01</td>\n",
              "      <td>281,886,722</td>\n",
              "    </tr>\n",
              "    <tr>\n",
              "      <th>36</th>\n",
              "      <td>2021-02-01</td>\n",
              "      <td>230,527,203</td>\n",
              "    </tr>\n",
              "    <tr>\n",
              "      <th>37</th>\n",
              "      <td>2021-03-01</td>\n",
              "      <td>339,743,708</td>\n",
              "    </tr>\n",
              "    <tr>\n",
              "      <th>38</th>\n",
              "      <td>2021-04-01</td>\n",
              "      <td>231,142,335</td>\n",
              "    </tr>\n",
              "    <tr>\n",
              "      <th>39</th>\n",
              "      <td>2021-05-01</td>\n",
              "      <td>194,234,751</td>\n",
              "    </tr>\n",
              "    <tr>\n",
              "      <th>40</th>\n",
              "      <td>2021-06-01</td>\n",
              "      <td>192,627,342</td>\n",
              "    </tr>\n",
              "    <tr>\n",
              "      <th>41</th>\n",
              "      <td>2021-07-01</td>\n",
              "      <td>189,626,495</td>\n",
              "    </tr>\n",
              "    <tr>\n",
              "      <th>42</th>\n",
              "      <td>2021-08-01</td>\n",
              "      <td>141,361,235</td>\n",
              "    </tr>\n",
              "    <tr>\n",
              "      <th>43</th>\n",
              "      <td>2021-09-01</td>\n",
              "      <td>177,614,207</td>\n",
              "    </tr>\n",
              "    <tr>\n",
              "      <th>44</th>\n",
              "      <td>2021-10-01</td>\n",
              "      <td>174,650,224</td>\n",
              "    </tr>\n",
              "    <tr>\n",
              "      <th>45</th>\n",
              "      <td>2021-11-01</td>\n",
              "      <td>207,350,083</td>\n",
              "    </tr>\n",
              "    <tr>\n",
              "      <th>46</th>\n",
              "      <td>2021-12-01</td>\n",
              "      <td>153,420,587</td>\n",
              "    </tr>\n",
              "    <tr>\n",
              "      <th>47</th>\n",
              "      <td>2022-01-01</td>\n",
              "      <td>190,959,295</td>\n",
              "    </tr>\n",
              "    <tr>\n",
              "      <th>48</th>\n",
              "      <td>2022-02-01</td>\n",
              "      <td>282,214,635</td>\n",
              "    </tr>\n",
              "    <tr>\n",
              "      <th>49</th>\n",
              "      <td>2022-03-01</td>\n",
              "      <td>299,903,621</td>\n",
              "    </tr>\n",
              "  </tbody>\n",
              "</table>\n",
              "</div>\n",
              "      <button class=\"colab-df-convert\" onclick=\"convertToInteractive('df-76f6a692-315f-4fa7-894b-94a4e2eb0014')\"\n",
              "              title=\"Convert this dataframe to an interactive table.\"\n",
              "              style=\"display:none;\">\n",
              "        \n",
              "  <svg xmlns=\"http://www.w3.org/2000/svg\" height=\"24px\"viewBox=\"0 0 24 24\"\n",
              "       width=\"24px\">\n",
              "    <path d=\"M0 0h24v24H0V0z\" fill=\"none\"/>\n",
              "    <path d=\"M18.56 5.44l.94 2.06.94-2.06 2.06-.94-2.06-.94-.94-2.06-.94 2.06-2.06.94zm-11 1L8.5 8.5l.94-2.06 2.06-.94-2.06-.94L8.5 2.5l-.94 2.06-2.06.94zm10 10l.94 2.06.94-2.06 2.06-.94-2.06-.94-.94-2.06-.94 2.06-2.06.94z\"/><path d=\"M17.41 7.96l-1.37-1.37c-.4-.4-.92-.59-1.43-.59-.52 0-1.04.2-1.43.59L10.3 9.45l-7.72 7.72c-.78.78-.78 2.05 0 2.83L4 21.41c.39.39.9.59 1.41.59.51 0 1.02-.2 1.41-.59l7.78-7.78 2.81-2.81c.8-.78.8-2.07 0-2.86zM5.41 20L4 18.59l7.72-7.72 1.47 1.35L5.41 20z\"/>\n",
              "  </svg>\n",
              "      </button>\n",
              "      \n",
              "  <style>\n",
              "    .colab-df-container {\n",
              "      display:flex;\n",
              "      flex-wrap:wrap;\n",
              "      gap: 12px;\n",
              "    }\n",
              "\n",
              "    .colab-df-convert {\n",
              "      background-color: #E8F0FE;\n",
              "      border: none;\n",
              "      border-radius: 50%;\n",
              "      cursor: pointer;\n",
              "      display: none;\n",
              "      fill: #1967D2;\n",
              "      height: 32px;\n",
              "      padding: 0 0 0 0;\n",
              "      width: 32px;\n",
              "    }\n",
              "\n",
              "    .colab-df-convert:hover {\n",
              "      background-color: #E2EBFA;\n",
              "      box-shadow: 0px 1px 2px rgba(60, 64, 67, 0.3), 0px 1px 3px 1px rgba(60, 64, 67, 0.15);\n",
              "      fill: #174EA6;\n",
              "    }\n",
              "\n",
              "    [theme=dark] .colab-df-convert {\n",
              "      background-color: #3B4455;\n",
              "      fill: #D2E3FC;\n",
              "    }\n",
              "\n",
              "    [theme=dark] .colab-df-convert:hover {\n",
              "      background-color: #434B5C;\n",
              "      box-shadow: 0px 1px 3px 1px rgba(0, 0, 0, 0.15);\n",
              "      filter: drop-shadow(0px 1px 2px rgba(0, 0, 0, 0.3));\n",
              "      fill: #FFFFFF;\n",
              "    }\n",
              "  </style>\n",
              "\n",
              "      <script>\n",
              "        const buttonEl =\n",
              "          document.querySelector('#df-76f6a692-315f-4fa7-894b-94a4e2eb0014 button.colab-df-convert');\n",
              "        buttonEl.style.display =\n",
              "          google.colab.kernel.accessAllowed ? 'block' : 'none';\n",
              "\n",
              "        async function convertToInteractive(key) {\n",
              "          const element = document.querySelector('#df-76f6a692-315f-4fa7-894b-94a4e2eb0014');\n",
              "          const dataTable =\n",
              "            await google.colab.kernel.invokeFunction('convertToInteractive',\n",
              "                                                     [key], {});\n",
              "          if (!dataTable) return;\n",
              "\n",
              "          const docLinkHtml = 'Like what you see? Visit the ' +\n",
              "            '<a target=\"_blank\" href=https://colab.research.google.com/notebooks/data_table.ipynb>data table notebook</a>'\n",
              "            + ' to learn more about interactive tables.';\n",
              "          element.innerHTML = '';\n",
              "          dataTable['output_type'] = 'display_data';\n",
              "          await google.colab.output.renderOutput(dataTable, element);\n",
              "          const docLink = document.createElement('div');\n",
              "          docLink.innerHTML = docLinkHtml;\n",
              "          element.appendChild(docLink);\n",
              "        }\n",
              "      </script>\n",
              "    </div>\n",
              "  </div>\n",
              "  "
            ]
          },
          "metadata": {},
          "execution_count": 61
        }
      ]
    },
    {
      "cell_type": "code",
      "source": [
        "UBS_volume_m.dtypes"
      ],
      "metadata": {
        "colab": {
          "base_uri": "https://localhost:8080/"
        },
        "id": "URlWT-hqHPRG",
        "outputId": "35553ca2-3290-495a-a7e6-d058fd881944"
      },
      "id": "URlWT-hqHPRG",
      "execution_count": 62,
      "outputs": [
        {
          "output_type": "execute_result",
          "data": {
            "text/plain": [
              "Date      datetime64[ns]\n",
              "Volume            object\n",
              "dtype: object"
            ]
          },
          "metadata": {},
          "execution_count": 62
        }
      ]
    },
    {
      "cell_type": "code",
      "source": [
        "#  Convert object type to integer and remove comma regular expressions "
      ],
      "metadata": {
        "id": "6-tKpd_Zfmg1"
      },
      "id": "6-tKpd_Zfmg1",
      "execution_count": 63,
      "outputs": []
    },
    {
      "cell_type": "code",
      "source": [
        "UBS_volume_m['Volume_int'] = UBS_volume_m['Volume'].str.replace(regular_expression, '', regex=True)"
      ],
      "metadata": {
        "id": "kcIJrWxTHPWe"
      },
      "id": "kcIJrWxTHPWe",
      "execution_count": 67,
      "outputs": []
    },
    {
      "cell_type": "code",
      "source": [
        "UBS_volume_m['Volume_int2'] = UBS_volume_m['Volume_int'].astype(int)"
      ],
      "metadata": {
        "id": "1ykKoBCCHPca"
      },
      "id": "1ykKoBCCHPca",
      "execution_count": 68,
      "outputs": []
    },
    {
      "cell_type": "code",
      "source": [
        "# Convert Date in nanoseconds to simple 7 values string"
      ],
      "metadata": {
        "id": "p5zv5BZcfnj1"
      },
      "id": "p5zv5BZcfnj1",
      "execution_count": 69,
      "outputs": []
    },
    {
      "cell_type": "code",
      "source": [
        "UBS_volume_m['Date_str'] = UBS_volume_m['Date'].astype(str)"
      ],
      "metadata": {
        "id": "HVP2Tymhcaug"
      },
      "id": "HVP2Tymhcaug",
      "execution_count": 73,
      "outputs": []
    },
    {
      "cell_type": "code",
      "source": [
        "UBS_volume_m['Date_str7'] = UBS_volume_m['Date_str'].str[:7]"
      ],
      "metadata": {
        "id": "O1jSB8sCVI6j"
      },
      "id": "O1jSB8sCVI6j",
      "execution_count": 72,
      "outputs": []
    },
    {
      "cell_type": "code",
      "source": [
        "UBS_volume_m.plot(figsize=(10,2),x='Date_str7', y='Volume_int2',color=\"tab:grey\", label='Volume') "
      ],
      "metadata": {
        "colab": {
          "base_uri": "https://localhost:8080/",
          "height": 204
        },
        "id": "wV1G0zBNBZRQ",
        "outputId": "03b46d5c-695d-4cb2-b0a8-e403af3693ce"
      },
      "id": "wV1G0zBNBZRQ",
      "execution_count": 74,
      "outputs": [
        {
          "output_type": "execute_result",
          "data": {
            "text/plain": [
              "<matplotlib.axes._subplots.AxesSubplot at 0x7f485b2e4390>"
            ]
          },
          "metadata": {},
          "execution_count": 74
        },
        {
          "output_type": "display_data",
          "data": {
            "text/plain": [
              "<Figure size 720x144 with 1 Axes>"
            ],
            "image/png": "[encoded data removed]"
          },
          "metadata": {}
        }
      ]
    },
    {
      "cell_type": "code",
      "source": [
        "UBS_volume_m"
      ],
      "metadata": {
        "colab": {
          "base_uri": "https://localhost:8080/",
          "height": 1000
        },
        "id": "73o_UAeH7PuQ",
        "outputId": "5583268f-761a-491b-9611-c64ded40d861"
      },
      "id": "73o_UAeH7PuQ",
      "execution_count": 96,
      "outputs": [
        {
          "output_type": "execute_result",
          "data": {
            "text/plain": [
              "         Date       Volume Volume_int  Volume_int2    Date_str Date_str7\n",
              "0  2018-02-01  212,872,180  212872180    212872180  2018-02-01   2018-02\n",
              "1  2018-03-01  273,193,341  273193341    273193341  2018-03-01   2018-03\n",
              "2  2018-04-01  273,653,003  273653003    273653003  2018-04-01   2018-04\n",
              "3  2018-05-01  305,739,793  305739793    305739793  2018-05-01   2018-05\n",
              "4  2018-06-01  324,318,650  324318650    324318650  2018-06-01   2018-06\n",
              "5  2018-07-01  258,869,502  258869502    258869502  2018-07-01   2018-07\n",
              "6  2018-08-01  178,265,280  178265280    178265280  2018-08-01   2018-08\n",
              "7  2018-09-01  241,667,332  241667332    241667332  2018-09-01   2018-09\n",
              "8  2018-10-01  347,222,876  347222876    347222876  2018-10-01   2018-10\n",
              "9  2018-11-01  316,159,262  316159262    316159262  2018-11-01   2018-11\n",
              "10 2018-12-01  301,934,821  301934821    301934821  2018-12-01   2018-12\n",
              "11 2019-01-01  288,360,058  288360058    288360058  2019-01-01   2019-01\n",
              "12 2019-02-01  287,865,646  287865646    287865646  2019-02-01   2019-02\n",
              "13 2019-03-01  370,892,383  370892383    370892383  2019-03-01   2019-03\n",
              "14 2019-04-01  298,407,382  298407382    298407382  2019-04-01   2019-04\n",
              "15 2019-05-01  299,843,668  299843668    299843668  2019-05-01   2019-05\n",
              "16 2019-06-01  321,692,082  321692082    321692082  2019-06-01   2019-06\n",
              "17 2019-07-01  420,844,085  420844085    420844085  2019-07-01   2019-07\n",
              "18 2019-08-01  468,507,380  468507380    468507380  2019-08-01   2019-08\n",
              "19 2019-09-01  415,874,782  415874782    415874782  2019-09-01   2019-09\n",
              "20 2019-10-01  408,181,238  408181238    408181238  2019-10-01   2019-10\n",
              "21 2019-11-01  311,813,082  311813082    311813082  2019-11-01   2019-11\n",
              "22 2019-12-01  269,283,710  269283710    269283710  2019-12-01   2019-12\n",
              "23 2020-01-01  407,893,788  407893788    407893788  2020-01-01   2020-01\n",
              "24 2020-02-01  479,726,904  479726904    479726904  2020-02-01   2020-02\n",
              "25 2020-03-01  989,868,538  989868538    989868538  2020-03-01   2020-03\n",
              "26 2020-04-01  486,744,278  486744278    486744278  2020-04-01   2020-04\n",
              "27 2020-05-01  374,194,977  374194977    374194977  2020-05-01   2020-05\n",
              "28 2020-06-01  472,158,924  472158924    472158924  2020-06-01   2020-06\n",
              "29 2020-07-01  334,578,451  334578451    334578451  2020-07-01   2020-07\n",
              "30 2020-08-01  202,253,910  202253910    202253910  2020-08-01   2020-08\n",
              "31 2020-09-01  314,783,754  314783754    314783754  2020-09-01   2020-09\n",
              "32 2020-10-01  327,483,702  327483702    327483702  2020-10-01   2020-10\n",
              "33 2020-11-01  440,714,823  440714823    440714823  2020-11-01   2020-11\n",
              "34 2020-12-01  266,283,673  266283673    266283673  2020-12-01   2020-12\n",
              "35 2021-01-01  281,886,722  281886722    281886722  2021-01-01   2021-01\n",
              "36 2021-02-01  230,527,203  230527203    230527203  2021-02-01   2021-02\n",
              "37 2021-03-01  339,743,708  339743708    339743708  2021-03-01   2021-03\n",
              "38 2021-04-01  231,142,335  231142335    231142335  2021-04-01   2021-04\n",
              "39 2021-05-01  194,234,751  194234751    194234751  2021-05-01   2021-05\n",
              "40 2021-06-01  192,627,342  192627342    192627342  2021-06-01   2021-06\n",
              "41 2021-07-01  189,626,495  189626495    189626495  2021-07-01   2021-07\n",
              "42 2021-08-01  141,361,235  141361235    141361235  2021-08-01   2021-08\n",
              "43 2021-09-01  177,614,207  177614207    177614207  2021-09-01   2021-09\n",
              "44 2021-10-01  174,650,224  174650224    174650224  2021-10-01   2021-10\n",
              "45 2021-11-01  207,350,083  207350083    207350083  2021-11-01   2021-11\n",
              "46 2021-12-01  153,420,587  153420587    153420587  2021-12-01   2021-12\n",
              "47 2022-01-01  190,959,295  190959295    190959295  2022-01-01   2022-01\n",
              "48 2022-02-01  282,214,635  282214635    282214635  2022-02-01   2022-02\n",
              "49 2022-03-01  299,903,621  299903621    299903621  2022-03-01   2022-03"
            ],
            "text/html": [
              "\n",
              "  <div id=\"df-56e3f407-49ec-4540-9e2f-76f8badf66b4\">\n",
              "    <div class=\"colab-df-container\">\n",
              "      <div>\n",
              "<style scoped>\n",
              "    .dataframe tbody tr th:only-of-type {\n",
              "        vertical-align: middle;\n",
              "    }\n",
              "\n",
              "    .dataframe tbody tr th {\n",
              "        vertical-align: top;\n",
              "    }\n",
              "\n",
              "    .dataframe thead th {\n",
              "        text-align: right;\n",
              "    }\n",
              "</style>\n",
              "<table border=\"1\" class=\"dataframe\">\n",
              "  <thead>\n",
              "    <tr style=\"text-align: right;\">\n",
              "      <th></th>\n",
              "      <th>Date</th>\n",
              "      <th>Volume</th>\n",
              "      <th>Volume_int</th>\n",
              "      <th>Volume_int2</th>\n",
              "      <th>Date_str</th>\n",
              "      <th>Date_str7</th>\n",
              "    </tr>\n",
              "  </thead>\n",
              "  <tbody>\n",
              "    <tr>\n",
              "      <th>0</th>\n",
              "      <td>2018-02-01</td>\n",
              "      <td>212,872,180</td>\n",
              "      <td>212872180</td>\n",
              "      <td>212872180</td>\n",
              "      <td>2018-02-01</td>\n",
              "      <td>2018-02</td>\n",
              "    </tr>\n",
              "    <tr>\n",
              "      <th>1</th>\n",
              "      <td>2018-03-01</td>\n",
              "      <td>273,193,341</td>\n",
              "      <td>273193341</td>\n",
              "      <td>273193341</td>\n",
              "      <td>2018-03-01</td>\n",
              "      <td>2018-03</td>\n",
              "    </tr>\n",
              "    <tr>\n",
              "      <th>2</th>\n",
              "      <td>2018-04-01</td>\n",
              "      <td>273,653,003</td>\n",
              "      <td>273653003</td>\n",
              "      <td>273653003</td>\n",
              "      <td>2018-04-01</td>\n",
              "      <td>2018-04</td>\n",
              "    </tr>\n",
              "    <tr>\n",
              "      <th>3</th>\n",
              "      <td>2018-05-01</td>\n",
              "      <td>305,739,793</td>\n",
              "      <td>305739793</td>\n",
              "      <td>305739793</td>\n",
              "      <td>2018-05-01</td>\n",
              "      <td>2018-05</td>\n",
              "    </tr>\n",
              "    <tr>\n",
              "      <th>4</th>\n",
              "      <td>2018-06-01</td>\n",
              "      <td>324,318,650</td>\n",
              "      <td>324318650</td>\n",
              "      <td>324318650</td>\n",
              "      <td>2018-06-01</td>\n",
              "      <td>2018-06</td>\n",
              "    </tr>\n",
              "    <tr>\n",
              "      <th>5</th>\n",
              "      <td>2018-07-01</td>\n",
              "      <td>258,869,502</td>\n",
              "      <td>258869502</td>\n",
              "      <td>258869502</td>\n",
              "      <td>2018-07-01</td>\n",
              "      <td>2018-07</td>\n",
              "    </tr>\n",
              "    <tr>\n",
              "      <th>6</th>\n",
              "      <td>2018-08-01</td>\n",
              "      <td>178,265,280</td>\n",
              "      <td>178265280</td>\n",
              "      <td>178265280</td>\n",
              "      <td>2018-08-01</td>\n",
              "      <td>2018-08</td>\n",
              "    </tr>\n",
              "    <tr>\n",
              "      <th>7</th>\n",
              "      <td>2018-09-01</td>\n",
              "      <td>241,667,332</td>\n",
              "      <td>241667332</td>\n",
              "      <td>241667332</td>\n",
              "      <td>2018-09-01</td>\n",
              "      <td>2018-09</td>\n",
              "    </tr>\n",
              "    <tr>\n",
              "      <th>8</th>\n",
              "      <td>2018-10-01</td>\n",
              "      <td>347,222,876</td>\n",
              "      <td>347222876</td>\n",
              "      <td>347222876</td>\n",
              "      <td>2018-10-01</td>\n",
              "      <td>2018-10</td>\n",
              "    </tr>\n",
              "    <tr>\n",
              "      <th>9</th>\n",
              "      <td>2018-11-01</td>\n",
              "      <td>316,159,262</td>\n",
              "      <td>316159262</td>\n",
              "      <td>316159262</td>\n",
              "      <td>2018-11-01</td>\n",
              "      <td>2018-11</td>\n",
              "    </tr>\n",
              "    <tr>\n",
              "      <th>10</th>\n",
              "      <td>2018-12-01</td>\n",
              "      <td>301,934,821</td>\n",
              "      <td>301934821</td>\n",
              "      <td>301934821</td>\n",
              "      <td>2018-12-01</td>\n",
              "      <td>2018-12</td>\n",
              "    </tr>\n",
              "    <tr>\n",
              "      <th>11</th>\n",
              "      <td>2019-01-01</td>\n",
              "      <td>288,360,058</td>\n",
              "      <td>288360058</td>\n",
              "      <td>288360058</td>\n",
              "      <td>2019-01-01</td>\n",
              "      <td>2019-01</td>\n",
              "    </tr>\n",
              "    <tr>\n",
              "      <th>12</th>\n",
              "      <td>2019-02-01</td>\n",
              "      <td>287,865,646</td>\n",
              "      <td>287865646</td>\n",
              "      <td>287865646</td>\n",
              "      <td>2019-02-01</td>\n",
              "      <td>2019-02</td>\n",
              "    </tr>\n",
              "    <tr>\n",
              "      <th>13</th>\n",
              "      <td>2019-03-01</td>\n",
              "      <td>370,892,383</td>\n",
              "      <td>370892383</td>\n",
              "      <td>370892383</td>\n",
              "      <td>2019-03-01</td>\n",
              "      <td>2019-03</td>\n",
              "    </tr>\n",
              "    <tr>\n",
              "      <th>14</th>\n",
              "      <td>2019-04-01</td>\n",
              "      <td>298,407,382</td>\n",
              "      <td>298407382</td>\n",
              "      <td>298407382</td>\n",
              "      <td>2019-04-01</td>\n",
              "      <td>2019-04</td>\n",
              "    </tr>\n",
              "    <tr>\n",
              "      <th>15</th>\n",
              "      <td>2019-05-01</td>\n",
              "      <td>299,843,668</td>\n",
              "      <td>299843668</td>\n",
              "      <td>299843668</td>\n",
              "      <td>2019-05-01</td>\n",
              "      <td>2019-05</td>\n",
              "    </tr>\n",
              "    <tr>\n",
              "      <th>16</th>\n",
              "      <td>2019-06-01</td>\n",
              "      <td>321,692,082</td>\n",
              "      <td>321692082</td>\n",
              "      <td>321692082</td>\n",
              "      <td>2019-06-01</td>\n",
              "      <td>2019-06</td>\n",
              "    </tr>\n",
              "    <tr>\n",
              "      <th>17</th>\n",
              "      <td>2019-07-01</td>\n",
              "      <td>420,844,085</td>\n",
              "      <td>420844085</td>\n",
              "      <td>420844085</td>\n",
              "      <td>2019-07-01</td>\n",
              "      <td>2019-07</td>\n",
              "    </tr>\n",
              "    <tr>\n",
              "      <th>18</th>\n",
              "      <td>2019-08-01</td>\n",
              "      <td>468,507,380</td>\n",
              "      <td>468507380</td>\n",
              "      <td>468507380</td>\n",
              "      <td>2019-08-01</td>\n",
              "      <td>2019-08</td>\n",
              "    </tr>\n",
              "    <tr>\n",
              "      <th>19</th>\n",
              "      <td>2019-09-01</td>\n",
              "      <td>415,874,782</td>\n",
              "      <td>415874782</td>\n",
              "      <td>415874782</td>\n",
              "      <td>2019-09-01</td>\n",
              "      <td>2019-09</td>\n",
              "    </tr>\n",
              "    <tr>\n",
              "      <th>20</th>\n",
              "      <td>2019-10-01</td>\n",
              "      <td>408,181,238</td>\n",
              "      <td>408181238</td>\n",
              "      <td>408181238</td>\n",
              "      <td>2019-10-01</td>\n",
              "      <td>2019-10</td>\n",
              "    </tr>\n",
              "    <tr>\n",
              "      <th>21</th>\n",
              "      <td>2019-11-01</td>\n",
              "      <td>311,813,082</td>\n",
              "      <td>311813082</td>\n",
              "      <td>311813082</td>\n",
              "      <td>2019-11-01</td>\n",
              "      <td>2019-11</td>\n",
              "    </tr>\n",
              "    <tr>\n",
              "      <th>22</th>\n",
              "      <td>2019-12-01</td>\n",
              "      <td>269,283,710</td>\n",
              "      <td>269283710</td>\n",
              "      <td>269283710</td>\n",
              "      <td>2019-12-01</td>\n",
              "      <td>2019-12</td>\n",
              "    </tr>\n",
              "    <tr>\n",
              "      <th>23</th>\n",
              "      <td>2020-01-01</td>\n",
              "      <td>407,893,788</td>\n",
              "      <td>407893788</td>\n",
              "      <td>407893788</td>\n",
              "      <td>2020-01-01</td>\n",
              "      <td>2020-01</td>\n",
              "    </tr>\n",
              "    <tr>\n",
              "      <th>24</th>\n",
              "      <td>2020-02-01</td>\n",
              "      <td>479,726,904</td>\n",
              "      <td>479726904</td>\n",
              "      <td>479726904</td>\n",
              "      <td>2020-02-01</td>\n",
              "      <td>2020-02</td>\n",
              "    </tr>\n",
              "    <tr>\n",
              "      <th>25</th>\n",
              "      <td>2020-03-01</td>\n",
              "      <td>989,868,538</td>\n",
              "      <td>989868538</td>\n",
              "      <td>989868538</td>\n",
              "      <td>2020-03-01</td>\n",
              "      <td>2020-03</td>\n",
              "    </tr>\n",
              "    <tr>\n",
              "      <th>26</th>\n",
              "      <td>2020-04-01</td>\n",
              "      <td>486,744,278</td>\n",
              "      <td>486744278</td>\n",
              "      <td>486744278</td>\n",
              "      <td>2020-04-01</td>\n",
              "      <td>2020-04</td>\n",
              "    </tr>\n",
              "    <tr>\n",
              "      <th>27</th>\n",
              "      <td>2020-05-01</td>\n",
              "      <td>374,194,977</td>\n",
              "      <td>374194977</td>\n",
              "      <td>374194977</td>\n",
              "      <td>2020-05-01</td>\n",
              "      <td>2020-05</td>\n",
              "    </tr>\n",
              "    <tr>\n",
              "      <th>28</th>\n",
              "      <td>2020-06-01</td>\n",
              "      <td>472,158,924</td>\n",
              "      <td>472158924</td>\n",
              "      <td>472158924</td>\n",
              "      <td>2020-06-01</td>\n",
              "      <td>2020-06</td>\n",
              "    </tr>\n",
              "    <tr>\n",
              "      <th>29</th>\n",
              "      <td>2020-07-01</td>\n",
              "      <td>334,578,451</td>\n",
              "      <td>334578451</td>\n",
              "      <td>334578451</td>\n",
              "      <td>2020-07-01</td>\n",
              "      <td>2020-07</td>\n",
              "    </tr>\n",
              "    <tr>\n",
              "      <th>30</th>\n",
              "      <td>2020-08-01</td>\n",
              "      <td>202,253,910</td>\n",
              "      <td>202253910</td>\n",
              "      <td>202253910</td>\n",
              "      <td>2020-08-01</td>\n",
              "      <td>2020-08</td>\n",
              "    </tr>\n",
              "    <tr>\n",
              "      <th>31</th>\n",
              "      <td>2020-09-01</td>\n",
              "      <td>314,783,754</td>\n",
              "      <td>314783754</td>\n",
              "      <td>314783754</td>\n",
              "      <td>2020-09-01</td>\n",
              "      <td>2020-09</td>\n",
              "    </tr>\n",
              "    <tr>\n",
              "      <th>32</th>\n",
              "      <td>2020-10-01</td>\n",
              "      <td>327,483,702</td>\n",
              "      <td>327483702</td>\n",
              "      <td>327483702</td>\n",
              "      <td>2020-10-01</td>\n",
              "      <td>2020-10</td>\n",
              "    </tr>\n",
              "    <tr>\n",
              "      <th>33</th>\n",
              "      <td>2020-11-01</td>\n",
              "      <td>440,714,823</td>\n",
              "      <td>440714823</td>\n",
              "      <td>440714823</td>\n",
              "      <td>2020-11-01</td>\n",
              "      <td>2020-11</td>\n",
              "    </tr>\n",
              "    <tr>\n",
              "      <th>34</th>\n",
              "      <td>2020-12-01</td>\n",
              "      <td>266,283,673</td>\n",
              "      <td>266283673</td>\n",
              "      <td>266283673</td>\n",
              "      <td>2020-12-01</td>\n",
              "      <td>2020-12</td>\n",
              "    </tr>\n",
              "    <tr>\n",
              "      <th>35</th>\n",
              "      <td>2021-01-01</td>\n",
              "      <td>281,886,722</td>\n",
              "      <td>281886722</td>\n",
              "      <td>281886722</td>\n",
              "      <td>2021-01-01</td>\n",
              "      <td>2021-01</td>\n",
              "    </tr>\n",
              "    <tr>\n",
              "      <th>36</th>\n",
              "      <td>2021-02-01</td>\n",
              "      <td>230,527,203</td>\n",
              "      <td>230527203</td>\n",
              "      <td>230527203</td>\n",
              "      <td>2021-02-01</td>\n",
              "      <td>2021-02</td>\n",
              "    </tr>\n",
              "    <tr>\n",
              "      <th>37</th>\n",
              "      <td>2021-03-01</td>\n",
              "      <td>339,743,708</td>\n",
              "      <td>339743708</td>\n",
              "      <td>339743708</td>\n",
              "      <td>2021-03-01</td>\n",
              "      <td>2021-03</td>\n",
              "    </tr>\n",
              "    <tr>\n",
              "      <th>38</th>\n",
              "      <td>2021-04-01</td>\n",
              "      <td>231,142,335</td>\n",
              "      <td>231142335</td>\n",
              "      <td>231142335</td>\n",
              "      <td>2021-04-01</td>\n",
              "      <td>2021-04</td>\n",
              "    </tr>\n",
              "    <tr>\n",
              "      <th>39</th>\n",
              "      <td>2021-05-01</td>\n",
              "      <td>194,234,751</td>\n",
              "      <td>194234751</td>\n",
              "      <td>194234751</td>\n",
              "      <td>2021-05-01</td>\n",
              "      <td>2021-05</td>\n",
              "    </tr>\n",
              "    <tr>\n",
              "      <th>40</th>\n",
              "      <td>2021-06-01</td>\n",
              "      <td>192,627,342</td>\n",
              "      <td>192627342</td>\n",
              "      <td>192627342</td>\n",
              "      <td>2021-06-01</td>\n",
              "      <td>2021-06</td>\n",
              "    </tr>\n",
              "    <tr>\n",
              "      <th>41</th>\n",
              "      <td>2021-07-01</td>\n",
              "      <td>189,626,495</td>\n",
              "      <td>189626495</td>\n",
              "      <td>189626495</td>\n",
              "      <td>2021-07-01</td>\n",
              "      <td>2021-07</td>\n",
              "    </tr>\n",
              "    <tr>\n",
              "      <th>42</th>\n",
              "      <td>2021-08-01</td>\n",
              "      <td>141,361,235</td>\n",
              "      <td>141361235</td>\n",
              "      <td>141361235</td>\n",
              "      <td>2021-08-01</td>\n",
              "      <td>2021-08</td>\n",
              "    </tr>\n",
              "    <tr>\n",
              "      <th>43</th>\n",
              "      <td>2021-09-01</td>\n",
              "      <td>177,614,207</td>\n",
              "      <td>177614207</td>\n",
              "      <td>177614207</td>\n",
              "      <td>2021-09-01</td>\n",
              "      <td>2021-09</td>\n",
              "    </tr>\n",
              "    <tr>\n",
              "      <th>44</th>\n",
              "      <td>2021-10-01</td>\n",
              "      <td>174,650,224</td>\n",
              "      <td>174650224</td>\n",
              "      <td>174650224</td>\n",
              "      <td>2021-10-01</td>\n",
              "      <td>2021-10</td>\n",
              "    </tr>\n",
              "    <tr>\n",
              "      <th>45</th>\n",
              "      <td>2021-11-01</td>\n",
              "      <td>207,350,083</td>\n",
              "      <td>207350083</td>\n",
              "      <td>207350083</td>\n",
              "      <td>2021-11-01</td>\n",
              "      <td>2021-11</td>\n",
              "    </tr>\n",
              "    <tr>\n",
              "      <th>46</th>\n",
              "      <td>2021-12-01</td>\n",
              "      <td>153,420,587</td>\n",
              "      <td>153420587</td>\n",
              "      <td>153420587</td>\n",
              "      <td>2021-12-01</td>\n",
              "      <td>2021-12</td>\n",
              "    </tr>\n",
              "    <tr>\n",
              "      <th>47</th>\n",
              "      <td>2022-01-01</td>\n",
              "      <td>190,959,295</td>\n",
              "      <td>190959295</td>\n",
              "      <td>190959295</td>\n",
              "      <td>2022-01-01</td>\n",
              "      <td>2022-01</td>\n",
              "    </tr>\n",
              "    <tr>\n",
              "      <th>48</th>\n",
              "      <td>2022-02-01</td>\n",
              "      <td>282,214,635</td>\n",
              "      <td>282214635</td>\n",
              "      <td>282214635</td>\n",
              "      <td>2022-02-01</td>\n",
              "      <td>2022-02</td>\n",
              "    </tr>\n",
              "    <tr>\n",
              "      <th>49</th>\n",
              "      <td>2022-03-01</td>\n",
              "      <td>299,903,621</td>\n",
              "      <td>299903621</td>\n",
              "      <td>299903621</td>\n",
              "      <td>2022-03-01</td>\n",
              "      <td>2022-03</td>\n",
              "    </tr>\n",
              "  </tbody>\n",
              "</table>\n",
              "</div>\n",
              "      <button class=\"colab-df-convert\" onclick=\"convertToInteractive('df-56e3f407-49ec-4540-9e2f-76f8badf66b4')\"\n",
              "              title=\"Convert this dataframe to an interactive table.\"\n",
              "              style=\"display:none;\">\n",
              "        \n",
              "  <svg xmlns=\"http://www.w3.org/2000/svg\" height=\"24px\"viewBox=\"0 0 24 24\"\n",
              "       width=\"24px\">\n",
              "    <path d=\"M0 0h24v24H0V0z\" fill=\"none\"/>\n",
              "    <path d=\"M18.56 5.44l.94 2.06.94-2.06 2.06-.94-2.06-.94-.94-2.06-.94 2.06-2.06.94zm-11 1L8.5 8.5l.94-2.06 2.06-.94-2.06-.94L8.5 2.5l-.94 2.06-2.06.94zm10 10l.94 2.06.94-2.06 2.06-.94-2.06-.94-.94-2.06-.94 2.06-2.06.94z\"/><path d=\"M17.41 7.96l-1.37-1.37c-.4-.4-.92-.59-1.43-.59-.52 0-1.04.2-1.43.59L10.3 9.45l-7.72 7.72c-.78.78-.78 2.05 0 2.83L4 21.41c.39.39.9.59 1.41.59.51 0 1.02-.2 1.41-.59l7.78-7.78 2.81-2.81c.8-.78.8-2.07 0-2.86zM5.41 20L4 18.59l7.72-7.72 1.47 1.35L5.41 20z\"/>\n",
              "  </svg>\n",
              "      </button>\n",
              "      \n",
              "  <style>\n",
              "    .colab-df-container {\n",
              "      display:flex;\n",
              "      flex-wrap:wrap;\n",
              "      gap: 12px;\n",
              "    }\n",
              "\n",
              "    .colab-df-convert {\n",
              "      background-color: #E8F0FE;\n",
              "      border: none;\n",
              "      border-radius: 50%;\n",
              "      cursor: pointer;\n",
              "      display: none;\n",
              "      fill: #1967D2;\n",
              "      height: 32px;\n",
              "      padding: 0 0 0 0;\n",
              "      width: 32px;\n",
              "    }\n",
              "\n",
              "    .colab-df-convert:hover {\n",
              "      background-color: #E2EBFA;\n",
              "      box-shadow: 0px 1px 2px rgba(60, 64, 67, 0.3), 0px 1px 3px 1px rgba(60, 64, 67, 0.15);\n",
              "      fill: #174EA6;\n",
              "    }\n",
              "\n",
              "    [theme=dark] .colab-df-convert {\n",
              "      background-color: #3B4455;\n",
              "      fill: #D2E3FC;\n",
              "    }\n",
              "\n",
              "    [theme=dark] .colab-df-convert:hover {\n",
              "      background-color: #434B5C;\n",
              "      box-shadow: 0px 1px 3px 1px rgba(0, 0, 0, 0.15);\n",
              "      filter: drop-shadow(0px 1px 2px rgba(0, 0, 0, 0.3));\n",
              "      fill: #FFFFFF;\n",
              "    }\n",
              "  </style>\n",
              "\n",
              "      <script>\n",
              "        const buttonEl =\n",
              "          document.querySelector('#df-56e3f407-49ec-4540-9e2f-76f8badf66b4 button.colab-df-convert');\n",
              "        buttonEl.style.display =\n",
              "          google.colab.kernel.accessAllowed ? 'block' : 'none';\n",
              "\n",
              "        async function convertToInteractive(key) {\n",
              "          const element = document.querySelector('#df-56e3f407-49ec-4540-9e2f-76f8badf66b4');\n",
              "          const dataTable =\n",
              "            await google.colab.kernel.invokeFunction('convertToInteractive',\n",
              "                                                     [key], {});\n",
              "          if (!dataTable) return;\n",
              "\n",
              "          const docLinkHtml = 'Like what you see? Visit the ' +\n",
              "            '<a target=\"_blank\" href=https://colab.research.google.com/notebooks/data_table.ipynb>data table notebook</a>'\n",
              "            + ' to learn more about interactive tables.';\n",
              "          element.innerHTML = '';\n",
              "          dataTable['output_type'] = 'display_data';\n",
              "          await google.colab.output.renderOutput(dataTable, element);\n",
              "          const docLink = document.createElement('div');\n",
              "          docLink.innerHTML = docLinkHtml;\n",
              "          element.appendChild(docLink);\n",
              "        }\n",
              "      </script>\n",
              "    </div>\n",
              "  </div>\n",
              "  "
            ]
          },
          "metadata": {},
          "execution_count": 96
        }
      ]
    },
    {
      "metadata": {
        "trusted": false,
        "colab": {
          "base_uri": "https://localhost:8080/"
        },
        "id": "a6e1758a",
        "outputId": "6db4fc9f-70f5-49d9-ce74-535f2f62b528"
      },
      "id": "a6e1758a",
      "cell_type": "code",
      "source": [
        "UBS_volume_m.dtypes"
      ],
      "execution_count": 97,
      "outputs": [
        {
          "output_type": "execute_result",
          "data": {
            "text/plain": [
              "Date           datetime64[ns]\n",
              "Volume                 object\n",
              "Volume_int             object\n",
              "Volume_int2             int64\n",
              "Date_str               object\n",
              "Date_str7              object\n",
              "dtype: object"
            ]
          },
          "metadata": {},
          "execution_count": 97
        }
      ]
    },
    {
      "metadata": {
        "trusted": false,
        "colab": {
          "base_uri": "https://localhost:8080/",
          "height": 223
        },
        "id": "7088d0a2",
        "outputId": "7b9f8958-bf19-4f3e-f444-be9fb17d1267"
      },
      "id": "7088d0a2",
      "cell_type": "code",
      "source": [
        "UBS_volume_m.plot(figsize=(13,2),x='Date_str7',y='Volume_int2', kind=\"bar\", color=\"tab:grey\", legend=False);"
      ],
      "execution_count": 77,
      "outputs": [
        {
          "output_type": "display_data",
          "data": {
            "text/plain": [
              "<Figure size 936x144 with 1 Axes>"
            ],
            "image/png": "[encoded data removed]"
          },
          "metadata": {}
        }
      ]
    },
    {
      "cell_type": "code",
      "source": [
        "import matplotlib.dates as mdates\n",
        "from matplotlib.dates import DateFormatter"
      ],
      "metadata": {
        "id": "FvoHN3UgZhw8"
      },
      "id": "FvoHN3UgZhw8",
      "execution_count": 78,
      "outputs": []
    },
    {
      "metadata": {
        "trusted": false,
        "id": "b622aff0"
      },
      "id": "b622aff0",
      "cell_type": "code",
      "source": [
        "from statsmodels.tsa.seasonal import seasonal_decompose"
      ],
      "execution_count": 79,
      "outputs": []
    },
    {
      "cell_type": "code",
      "source": [
        "UBS_volume_m_2 = UBS_volume_m[['Date','Volume_int2']]"
      ],
      "metadata": {
        "id": "W4xaqDRZhQnL"
      },
      "id": "W4xaqDRZhQnL",
      "execution_count": 80,
      "outputs": []
    },
    {
      "cell_type": "code",
      "source": [
        "# Rolling function will provide trend over given number of bins"
      ],
      "metadata": {
        "id": "AC04_8xrjQHV"
      },
      "id": "AC04_8xrjQHV",
      "execution_count": 81,
      "outputs": []
    },
    {
      "metadata": {
        "trusted": false,
        "colab": {
          "base_uri": "https://localhost:8080/",
          "height": 175
        },
        "id": "35417987",
        "outputId": "b874cbbe-c559-4a1c-f2a4-84c8d70af2dd"
      },
      "id": "35417987",
      "cell_type": "code",
      "source": [
        "UBS_volume_m_2.rolling(window = 12).mean().plot(y='Volume_int2',figsize=(8,2), color=\"tab:grey\", title=\"Rolling Mean over 12 month period\");"
      ],
      "execution_count": 82,
      "outputs": [
        {
          "output_type": "display_data",
          "data": {
            "text/plain": [
              "<Figure size 576x144 with 1 Axes>"
            ],
            "image/png": "[encoded data removed]"
          },
          "metadata": {}
        }
      ]
    },
    {
      "metadata": {
        "trusted": false,
        "colab": {
          "base_uri": "https://localhost:8080/",
          "height": 175
        },
        "id": "2e9cc667",
        "outputId": "f1b27ca1-736b-4423-ec3c-29677496e779"
      },
      "id": "2e9cc667",
      "cell_type": "code",
      "source": [
        "UBS_volume_m_2.rolling(window = 20).mean().plot(figsize=(8,2), color=\"tab:grey\", title=\"Rolling mean over 20 month period\");"
      ],
      "execution_count": 83,
      "outputs": [
        {
          "output_type": "display_data",
          "data": {
            "text/plain": [
              "<Figure size 576x144 with 1 Axes>"
            ],
            "image/png": "[encoded data removed]"
          },
          "metadata": {}
        }
      ]
    },
    {
      "metadata": {
        "trusted": false,
        "colab": {
          "base_uri": "https://localhost:8080/",
          "height": 175
        },
        "id": "069c6994",
        "outputId": "39e7941d-1aeb-417d-8926-7f31f7d11961"
      },
      "id": "069c6994",
      "cell_type": "code",
      "source": [
        "UBS_volume_m_2.rolling(window = 12).var().plot(figsize=(8,2), color=\"tab:grey\", title=\"Rolling Variance over 12 month period\");"
      ],
      "execution_count": 84,
      "outputs": [
        {
          "output_type": "display_data",
          "data": {
            "text/plain": [
              "<Figure size 576x144 with 1 Axes>"
            ],
            "image/png": "[encoded data removed]"
          },
          "metadata": {}
        }
      ]
    },
    {
      "metadata": {
        "trusted": false,
        "colab": {
          "base_uri": "https://localhost:8080/",
          "height": 175
        },
        "id": "b9bf926d",
        "outputId": "24787b59-0443-436e-d7e6-ffdb2bd2fe85"
      },
      "id": "b9bf926d",
      "cell_type": "code",
      "source": [
        "UBS_volume_m_2.rolling(window = 20).var().plot(figsize=(8,2), color=\"tab:grey\", title=\"Rolling variance over 20 month period\");"
      ],
      "execution_count": 85,
      "outputs": [
        {
          "output_type": "display_data",
          "data": {
            "text/plain": [
              "<Figure size 576x144 with 1 Axes>"
            ],
            "image/png": "[encoded data removed]"
          },
          "metadata": {}
        }
      ]
    },
    {
      "cell_type": "code",
      "source": [
        "import statsmodels.api as sm"
      ],
      "metadata": {
        "id": "apl4l08CrPhH"
      },
      "id": "apl4l08CrPhH",
      "execution_count": 86,
      "outputs": []
    },
    {
      "cell_type": "code",
      "source": [
        "# https://pandas-datareader.readthedocs.io/en/latest/remote_data.html\n",
        "# https://www.marketwatch.com/investing/stock/ubsg/download-data?startDate=3/1/2017&endDate=3/23/2022&countryCode=ch \n",
        "# https://www.econstor.eu/bitstream/10419/67744/1/616664753.pdf\n",
        "# https://support.google.com/docs/answer/3093281?hl=en#\n",
        "# https://www.nasdaq.com/market-activity/stocks/ubs/historical\n",
        "# https://towardsdatascience.com/stationarity-in-time-series-analysis-90c94f27322\n",
        "# https://www.bauer.uh.edu/rsusmel/phd/ec2-5.pdf\n",
        "# https://www.statsmodels.org/devel/examples/notebooks/generated/stationarity_detrending_adf_kpss.html"
      ],
      "metadata": {
        "id": "ylvm0qDpb9pF"
      },
      "id": "ylvm0qDpb9pF",
      "execution_count": 87,
      "outputs": []
    },
    {
      "cell_type": "code",
      "source": [
        "# Augmented Dickey Fuller Test \n",
        "\n",
        "# Null Hypothesis: The series has a unit root (series is not stationary.\n",
        "# Alternate Hypothesis: The series has no unit root, the trend is stationary.\n",
        "# If the null hypothesis in failed to be rejected, this test may provide evidence that the series is non-stationary."
      ],
      "metadata": {
        "id": "szi3S8VXz0X5"
      },
      "id": "szi3S8VXz0X5",
      "execution_count": 88,
      "outputs": []
    },
    {
      "cell_type": "code",
      "source": [
        "from statsmodels.tsa.stattools import adfuller\n",
        "\n",
        "\n",
        "def adf_test(timeseries):\n",
        "    print(\"Results of Dickey-Fuller Test:\")\n",
        "    dftest = adfuller(timeseries, autolag=\"AIC\")\n",
        "    dfoutput = pd.Series(\n",
        "        dftest[0:4],\n",
        "        index=[\n",
        "            \"Test Statistic\",\n",
        "            \"p-value\",\n",
        "            \"#Lags Used\",\n",
        "            \"Number of Observations Used\",\n",
        "        ],\n",
        "    )\n",
        "    for key, value in dftest[4].items():\n",
        "        dfoutput[\"Critical Value (%s)\" % key] = value\n",
        "    print(dfoutput)"
      ],
      "metadata": {
        "id": "ZK0bjcMyrRlh"
      },
      "id": "ZK0bjcMyrRlh",
      "execution_count": 89,
      "outputs": []
    },
    {
      "cell_type": "code",
      "source": [
        "# The p-value obtained should be less than the significance level (say 0.05) in order to reject the null hypothesis. \n",
        "# The series is stationary.\n",
        "# The result of Test Statistic is lower than any Critical value"
      ],
      "metadata": {
        "id": "Ee_a0_KefatP"
      },
      "id": "Ee_a0_KefatP",
      "execution_count": 90,
      "outputs": []
    },
    {
      "cell_type": "code",
      "source": [
        "adf_test(UBS_volume_m_2[\"Volume_int2\"])"
      ],
      "metadata": {
        "colab": {
          "base_uri": "https://localhost:8080/"
        },
        "id": "wdMBsTt6rqXZ",
        "outputId": "e8493e25-32c7-400c-db67-e2a0235df1f3"
      },
      "id": "wdMBsTt6rqXZ",
      "execution_count": 91,
      "outputs": [
        {
          "output_type": "stream",
          "name": "stdout",
          "text": [
            "Results of Dickey-Fuller Test:\n",
            "Test Statistic                 -3.719042\n",
            "p-value                         0.003853\n",
            "#Lags Used                      0.000000\n",
            "Number of Observations Used    49.000000\n",
            "Critical Value (1%)            -3.571472\n",
            "Critical Value (5%)            -2.922629\n",
            "Critical Value (10%)           -2.599336\n",
            "dtype: float64\n"
          ]
        }
      ]
    },
    {
      "cell_type": "code",
      "source": [
        "# KPSS Test \n",
        "\n",
        "# Null Hypothesis: The process is trend stationary.\n",
        "# Alternate Hypothesis: The series has a unit root (series is not stationary).\n",
        "# A function is created to carry out the KPSS test on a time series."
      ],
      "metadata": {
        "id": "aaUSMrqNz8wJ"
      },
      "id": "aaUSMrqNz8wJ",
      "execution_count": 92,
      "outputs": []
    },
    {
      "cell_type": "code",
      "source": [
        "from statsmodels.tsa.stattools import kpss\n",
        "\n",
        "\n",
        "def kpss_test(timeseries):\n",
        "    print(\"Results of KPSS Test:\")\n",
        "    kpsstest = kpss(timeseries, regression=\"c\")\n",
        "    kpss_output = pd.Series(\n",
        "        kpsstest[0:3], index=[\"Test Statistic\", \"p-value\", \"Lags Used\"]\n",
        "    )\n",
        "    for key, value in kpsstest[3].items():\n",
        "        kpss_output[\"Critical Value (%s)\" % key] = value\n",
        "    print(kpss_output)"
      ],
      "metadata": {
        "id": "AwKTPz7fsCEE"
      },
      "id": "AwKTPz7fsCEE",
      "execution_count": 93,
      "outputs": []
    },
    {
      "cell_type": "code",
      "source": [
        "kpss_test(UBS_volume_m_2['Volume_int2'])"
      ],
      "metadata": {
        "colab": {
          "base_uri": "https://localhost:8080/"
        },
        "id": "-1_UKAWusCa9",
        "outputId": "6e2b72cb-12c0-4e09-91d7-57735b231d14"
      },
      "id": "-1_UKAWusCa9",
      "execution_count": 94,
      "outputs": [
        {
          "output_type": "stream",
          "name": "stdout",
          "text": [
            "Results of KPSS Test:\n",
            "Test Statistic            0.164824\n",
            "p-value                   0.100000\n",
            "Lags Used                11.000000\n",
            "Critical Value (10%)      0.347000\n",
            "Critical Value (5%)       0.463000\n",
            "Critical Value (2.5%)     0.574000\n",
            "Critical Value (1%)       0.739000\n",
            "dtype: float64\n"
          ]
        },
        {
          "output_type": "stream",
          "name": "stderr",
          "text": [
            "/usr/local/lib/python3.7/dist-packages/statsmodels/tsa/stattools.py:1685: FutureWarning: The behavior of using lags=None will change in the next release. Currently lags=None is the same as lags='legacy', and so a sample-size lag length is used. After the next release, the default will change to be the same as lags='auto' which uses an automatic lag length selection method. To silence this warning, either use 'auto' or 'legacy'\n",
            "  warn(msg, FutureWarning)\n",
            "/usr/local/lib/python3.7/dist-packages/statsmodels/tsa/stattools.py:1711: InterpolationWarning: p-value is greater than the indicated p-value\n",
            "  warn(\"p-value is greater than the indicated p-value\", InterpolationWarning)\n"
          ]
        }
      ]
    },
    {
      "cell_type": "code",
      "source": [
        "# The p-value obtained should be less than the significance level (say 0.05) in order to reject the null hypothesis. \n",
        "# The series is stationary, we cannot reject te null hypothesis.\n",
        "# The result of Test Statistic is lower than any Critical value"
      ],
      "metadata": {
        "id": "KV_dIdOLgdjA"
      },
      "id": "KV_dIdOLgdjA",
      "execution_count": 95,
      "outputs": []
    }
  ],
  "metadata": {
    "kernelspec": {
      "name": "python3",
      "display_name": "Python 3",
      "language": "python"
    },
    "language_info": {
      "name": "python",
      "version": "3.6.13",
      "mimetype": "text/x-python",
      "codemirror_mode": {
        "name": "ipython",
        "version": 3
      },
      "pygments_lexer": "ipython3",
      "nbconvert_exporter": "python",
      "file_extension": ".py"
    },
    "colab": {
      "name": "Stationarity_monthly.ipynb",
      "provenance": [],
      "collapsed_sections": []
    }
  },
  "nbformat": 4,
  "nbformat_minor": 5
}