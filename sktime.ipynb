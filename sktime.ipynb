{
  "nbformat": 4,
  "nbformat_minor": 0,
  "metadata": {
    "colab": {
      "provenance": [],
      "collapsed_sections": []
    },
    "kernelspec": {
      "name": "python3",
      "display_name": "Python 3"
    },
    "language_info": {
      "name": "python"
    }
  },
  "cells": [
    {
      "cell_type": "code",
      "source": [
        "# SKTIME\n",
        "# Period: quarterly, Metrics: Population\n",
        "# datasets: https://www.sktime.org/en/stable/api_reference/datasets.html?highlight=datasets#"
      ],
      "metadata": {
        "id": "8ElLsApCXXjO"
      },
      "execution_count": 128,
      "outputs": []
    },
    {
      "cell_type": "code",
      "source": [
        "pip install sktime"
      ],
      "metadata": {
        "id": "WbvtBrCnJwWI",
        "colab": {
          "base_uri": "https://localhost:8080/"
        },
        "outputId": "fa5396ae-9cab-4208-f0d3-38d88054420d"
      },
      "execution_count": 129,
      "outputs": [
        {
          "output_type": "stream",
          "name": "stdout",
          "text": [
            "Looking in indexes: https://pypi.org/simple, https://us-python.pkg.dev/colab-wheels/public/simple/\n",
            "Requirement already satisfied: sktime in /usr/local/lib/python3.7/dist-packages (0.13.4)\n",
            "Requirement already satisfied: pandas<1.6.0,>=1.1.0 in /usr/local/lib/python3.7/dist-packages (from sktime) (1.3.5)\n",
            "Requirement already satisfied: deprecated>=1.2.13 in /usr/local/lib/python3.7/dist-packages (from sktime) (1.2.13)\n",
            "Requirement already satisfied: statsmodels>=0.12.1 in /usr/local/lib/python3.7/dist-packages (from sktime) (0.13.2)\n",
            "Requirement already satisfied: numba>=0.53 in /usr/local/lib/python3.7/dist-packages (from sktime) (0.56.2)\n",
            "Requirement already satisfied: scipy<1.9.0 in /usr/local/lib/python3.7/dist-packages (from sktime) (1.7.3)\n",
            "Requirement already satisfied: numpy<1.23,>=1.21.0 in /usr/local/lib/python3.7/dist-packages (from sktime) (1.21.6)\n",
            "Requirement already satisfied: scikit-learn<1.2.0,>=0.24.0 in /usr/local/lib/python3.7/dist-packages (from sktime) (1.0.2)\n",
            "Requirement already satisfied: wrapt<2,>=1.10 in /usr/local/lib/python3.7/dist-packages (from deprecated>=1.2.13->sktime) (1.14.1)\n",
            "Requirement already satisfied: llvmlite<0.40,>=0.39.0dev0 in /usr/local/lib/python3.7/dist-packages (from numba>=0.53->sktime) (0.39.1)\n",
            "Requirement already satisfied: setuptools<60 in /usr/local/lib/python3.7/dist-packages (from numba>=0.53->sktime) (57.4.0)\n",
            "Requirement already satisfied: importlib-metadata in /usr/local/lib/python3.7/dist-packages (from numba>=0.53->sktime) (4.12.0)\n",
            "Requirement already satisfied: python-dateutil>=2.7.3 in /usr/local/lib/python3.7/dist-packages (from pandas<1.6.0,>=1.1.0->sktime) (2.8.2)\n",
            "Requirement already satisfied: pytz>=2017.3 in /usr/local/lib/python3.7/dist-packages (from pandas<1.6.0,>=1.1.0->sktime) (2022.2.1)\n",
            "Requirement already satisfied: six>=1.5 in /usr/local/lib/python3.7/dist-packages (from python-dateutil>=2.7.3->pandas<1.6.0,>=1.1.0->sktime) (1.15.0)\n",
            "Requirement already satisfied: threadpoolctl>=2.0.0 in /usr/local/lib/python3.7/dist-packages (from scikit-learn<1.2.0,>=0.24.0->sktime) (3.1.0)\n",
            "Requirement already satisfied: joblib>=0.11 in /usr/local/lib/python3.7/dist-packages (from scikit-learn<1.2.0,>=0.24.0->sktime) (1.1.0)\n",
            "Requirement already satisfied: patsy>=0.5.2 in /usr/local/lib/python3.7/dist-packages (from statsmodels>=0.12.1->sktime) (0.5.2)\n",
            "Requirement already satisfied: packaging>=21.3 in /usr/local/lib/python3.7/dist-packages (from statsmodels>=0.12.1->sktime) (21.3)\n",
            "Requirement already satisfied: pyparsing!=3.0.5,>=2.0.2 in /usr/local/lib/python3.7/dist-packages (from packaging>=21.3->statsmodels>=0.12.1->sktime) (3.0.9)\n",
            "Requirement already satisfied: zipp>=0.5 in /usr/local/lib/python3.7/dist-packages (from importlib-metadata->numba>=0.53->sktime) (3.8.1)\n",
            "Requirement already satisfied: typing-extensions>=3.6.4 in /usr/local/lib/python3.7/dist-packages (from importlib-metadata->numba>=0.53->sktime) (4.1.1)\n"
          ]
        }
      ]
    },
    {
      "cell_type": "code",
      "source": [
        "pip install pmdarima"
      ],
      "metadata": {
        "colab": {
          "base_uri": "https://localhost:8080/"
        },
        "id": "fGwQvC3LnjjS",
        "outputId": "8eaa0fe5-299a-44ed-d18b-da58e569d567"
      },
      "execution_count": 130,
      "outputs": [
        {
          "output_type": "stream",
          "name": "stdout",
          "text": [
            "Looking in indexes: https://pypi.org/simple, https://us-python.pkg.dev/colab-wheels/public/simple/\n",
            "Requirement already satisfied: pmdarima in /usr/local/lib/python3.7/dist-packages (2.0.1)\n",
            "Requirement already satisfied: urllib3 in /usr/local/lib/python3.7/dist-packages (from pmdarima) (1.24.3)\n",
            "Requirement already satisfied: numpy>=1.21 in /usr/local/lib/python3.7/dist-packages (from pmdarima) (1.21.6)\n",
            "Requirement already satisfied: scikit-learn>=0.22 in /usr/local/lib/python3.7/dist-packages (from pmdarima) (1.0.2)\n",
            "Requirement already satisfied: scipy>=1.3.2 in /usr/local/lib/python3.7/dist-packages (from pmdarima) (1.7.3)\n",
            "Requirement already satisfied: joblib>=0.11 in /usr/local/lib/python3.7/dist-packages (from pmdarima) (1.1.0)\n",
            "Requirement already satisfied: setuptools!=50.0.0,>=38.6.0 in /usr/local/lib/python3.7/dist-packages (from pmdarima) (57.4.0)\n",
            "Requirement already satisfied: statsmodels>=0.13.2 in /usr/local/lib/python3.7/dist-packages (from pmdarima) (0.13.2)\n",
            "Requirement already satisfied: Cython!=0.29.18,!=0.29.31,>=0.29 in /usr/local/lib/python3.7/dist-packages (from pmdarima) (0.29.32)\n",
            "Requirement already satisfied: pandas>=0.19 in /usr/local/lib/python3.7/dist-packages (from pmdarima) (1.3.5)\n",
            "Requirement already satisfied: python-dateutil>=2.7.3 in /usr/local/lib/python3.7/dist-packages (from pandas>=0.19->pmdarima) (2.8.2)\n",
            "Requirement already satisfied: pytz>=2017.3 in /usr/local/lib/python3.7/dist-packages (from pandas>=0.19->pmdarima) (2022.2.1)\n",
            "Requirement already satisfied: six>=1.5 in /usr/local/lib/python3.7/dist-packages (from python-dateutil>=2.7.3->pandas>=0.19->pmdarima) (1.15.0)\n",
            "Requirement already satisfied: threadpoolctl>=2.0.0 in /usr/local/lib/python3.7/dist-packages (from scikit-learn>=0.22->pmdarima) (3.1.0)\n",
            "Requirement already satisfied: patsy>=0.5.2 in /usr/local/lib/python3.7/dist-packages (from statsmodels>=0.13.2->pmdarima) (0.5.2)\n",
            "Requirement already satisfied: packaging>=21.3 in /usr/local/lib/python3.7/dist-packages (from statsmodels>=0.13.2->pmdarima) (21.3)\n",
            "Requirement already satisfied: pyparsing!=3.0.5,>=2.0.2 in /usr/local/lib/python3.7/dist-packages (from packaging>=21.3->statsmodels>=0.13.2->pmdarima) (3.0.9)\n"
          ]
        }
      ]
    },
    {
      "cell_type": "code",
      "source": [
        "import matplotlib\n",
        "import matplotlib.pyplot as plt\n",
        "from matplotlib.pyplot import title\n",
        "import pandas as pd\n",
        "import pmdarima\n",
        "import sktime\n",
        "from sktime.datasets import load_airline\n",
        "from sktime.utils.plotting import plot_series\n",
        "import numpy as np\n",
        "from sktime.utils import plotting\n",
        "from statsmodels.tsa.api import *\n",
        "from sktime.registry import all_estimators\n",
        "from sktime.forecasting.arima import ARIMA\n",
        "from sktime.forecasting.var import VAR"
      ],
      "metadata": {
        "id": "VcnVUM_5NFVH"
      },
      "execution_count": 131,
      "outputs": []
    },
    {
      "cell_type": "code",
      "source": [
        "from sktime.forecasting.model_selection import temporal_train_test_split\n",
        "from sktime.forecasting.base import ForecastingHorizon\n",
        "from sktime.forecasting.theta import ThetaForecaster\n",
        "from sktime.forecasting.naive import NaiveForecaster\n",
        "from sktime.performance_metrics.forecasting import mean_absolute_percentage_error\n",
        "from sktime.forecasting.arima import AutoARIMA\n",
        "from sktime.utils.plotting import plot_series\n",
        "import seaborn as sns"
      ],
      "metadata": {
        "id": "unXJUW3AKeE1"
      },
      "execution_count": 132,
      "outputs": []
    },
    {
      "cell_type": "code",
      "source": [
        "# 1. plot the time series, use the dataset provided by sktime library with 1 Date variable and 1 Float variable"
      ],
      "metadata": {
        "id": "2kRjlXiXqMOs"
      },
      "execution_count": 199,
      "outputs": []
    },
    {
      "cell_type": "code",
      "source": [
        "# define the time series\n",
        "y = load_airline()\n",
        "\n",
        "# plotting the graph of the basic series\n",
        "fig, ax = plotting.plot_series(y, labels=[\"y\"],markers=[''])\n",
        "ax.legend(loc='upper left', frameon=False)\n",
        "\n",
        "# define colors for line and legend\n",
        "ax.get_lines()[0].set_c(\"silver\")\n",
        "leg = ax.get_legend()\n",
        "leg.legendHandles[0].set_color('silver')"
      ],
      "metadata": {
        "colab": {
          "base_uri": "https://localhost:8080/",
          "height": 265
        },
        "id": "bjJeYuu9pTC7",
        "outputId": "ac85c9be-9054-48ff-a431-c5f9082126b7"
      },
      "execution_count": 198,
      "outputs": [
        {
          "output_type": "display_data",
          "data": {
            "text/plain": [
              "<Figure size 1152x288 with 1 Axes>"
            ],
            "image/png": "[encoded data removed]"
          },
          "metadata": {
            "needs_background": "light"
          }
        }
      ]
    },
    {
      "cell_type": "code",
      "source": [
        "y"
      ],
      "metadata": {
        "colab": {
          "base_uri": "https://localhost:8080/"
        },
        "id": "S16c3ZKoyruq",
        "outputId": "b68f0d10-ec85-4a8b-d974-c4fe646b09b9"
      },
      "execution_count": 169,
      "outputs": [
        {
          "output_type": "execute_result",
          "data": {
            "text/plain": [
              "1949-01    112.0\n",
              "1949-02    118.0\n",
              "1949-03    132.0\n",
              "1949-04    129.0\n",
              "1949-05    121.0\n",
              "           ...  \n",
              "1960-08    606.0\n",
              "1960-09    508.0\n",
              "1960-10    461.0\n",
              "1960-11    390.0\n",
              "1960-12    432.0\n",
              "Freq: M, Name: Number of airline passengers, Length: 144, dtype: float64"
            ]
          },
          "metadata": {},
          "execution_count": 169
        }
      ]
    },
    {
      "cell_type": "code",
      "source": [
        "# revise the type of series\n",
        "y.dtypes"
      ],
      "metadata": {
        "colab": {
          "base_uri": "https://localhost:8080/"
        },
        "id": "c-7Sdk1X3p15",
        "outputId": "b9502ca4-a4d1-49c9-807a-5844dccf3067"
      },
      "execution_count": 135,
      "outputs": [
        {
          "output_type": "execute_result",
          "data": {
            "text/plain": [
              "dtype('float64')"
            ]
          },
          "metadata": {},
          "execution_count": 135
        }
      ]
    },
    {
      "cell_type": "code",
      "source": [
        "# the primary index of time series is Period\n",
        "y.index"
      ],
      "metadata": {
        "id": "ZMaITpxe5Azs",
        "colab": {
          "base_uri": "https://localhost:8080/"
        },
        "outputId": "50fec7e8-1aa2-40f1-a792-424eecfac131"
      },
      "execution_count": 136,
      "outputs": [
        {
          "output_type": "execute_result",
          "data": {
            "text/plain": [
              "PeriodIndex(['1949-01', '1949-02', '1949-03', '1949-04', '1949-05', '1949-06',\n",
              "             '1949-07', '1949-08', '1949-09', '1949-10',\n",
              "             ...\n",
              "             '1960-03', '1960-04', '1960-05', '1960-06', '1960-07', '1960-08',\n",
              "             '1960-09', '1960-10', '1960-11', '1960-12'],\n",
              "            dtype='period[M]', length=144)"
            ]
          },
          "metadata": {},
          "execution_count": 136
        }
      ]
    },
    {
      "cell_type": "code",
      "source": [
        "# 2. plot the forecasted y\n",
        "# forecasting horizon defines how many steps/periods ahead are forecasted\n",
        "# there are many ways how to define forecasting horizon"
      ],
      "metadata": {
        "id": "JA-MtC2tqTlx"
      },
      "execution_count": 82,
      "outputs": []
    },
    {
      "cell_type": "code",
      "source": [
        "fh = np.arange(1, 37) # the first 37 steps ahead\n",
        "fh"
      ],
      "metadata": {
        "colab": {
          "base_uri": "https://localhost:8080/"
        },
        "id": "nHcKePEAj7Ah",
        "outputId": "6276064d-cd40-4f4c-f9cd-dbb2cbcc2e26"
      },
      "execution_count": 137,
      "outputs": [
        {
          "output_type": "execute_result",
          "data": {
            "text/plain": [
              "array([ 1,  2,  3,  4,  5,  6,  7,  8,  9, 10, 11, 12, 13, 14, 15, 16, 17,\n",
              "       18, 19, 20, 21, 22, 23, 24, 25, 26, 27, 28, 29, 30, 31, 32, 33, 34,\n",
              "       35, 36])"
            ]
          },
          "metadata": {},
          "execution_count": 137
        }
      ]
    },
    {
      "cell_type": "code",
      "source": [
        "fh = np.array([2, 5])  # 2nd and 5th step ahead"
      ],
      "metadata": {
        "id": "ELOKLn9ZmuPD"
      },
      "execution_count": 138,
      "outputs": []
    },
    {
      "cell_type": "code",
      "source": [
        "fh = ForecastingHorizon(\n",
        "    pd.PeriodIndex(pd.date_range(\"1961-01\", periods=36, freq=\"M\")), is_relative=False)\n",
        "fh"
      ],
      "metadata": {
        "colab": {
          "base_uri": "https://localhost:8080/"
        },
        "id": "kjxKoeAwpvxY",
        "outputId": "62fb994e-484f-4086-a981-e8886026583e"
      },
      "execution_count": 141,
      "outputs": [
        {
          "output_type": "execute_result",
          "data": {
            "text/plain": [
              "ForecastingHorizon(['1961-01', '1961-02', '1961-03', '1961-04', '1961-05', '1961-06',\n",
              "             '1961-07', '1961-08', '1961-09', '1961-10', '1961-11', '1961-12',\n",
              "             '1962-01', '1962-02', '1962-03', '1962-04', '1962-05', '1962-06',\n",
              "             '1962-07', '1962-08', '1962-09', '1962-10', '1962-11', '1962-12',\n",
              "             '1963-01', '1963-02', '1963-03', '1963-04', '1963-05', '1963-06',\n",
              "             '1963-07', '1963-08', '1963-09', '1963-10', '1963-11', '1963-12'],\n",
              "            dtype='period[M]', is_relative=False)"
            ]
          },
          "metadata": {},
          "execution_count": 141
        }
      ]
    },
    {
      "cell_type": "code",
      "source": [
        "cutoff = pd.Period(\"1960-12\", freq=\"M\") # define the beginning"
      ],
      "metadata": {
        "id": "3svlq4aMpv1Q"
      },
      "execution_count": 139,
      "outputs": []
    },
    {
      "cell_type": "code",
      "source": [
        "fh.to_relative(cutoff)"
      ],
      "metadata": {
        "colab": {
          "base_uri": "https://localhost:8080/"
        },
        "id": "_rrek276p9-N",
        "outputId": "c8da0f07-362f-4c50-aa1d-069a036dc330"
      },
      "execution_count": 142,
      "outputs": [
        {
          "output_type": "execute_result",
          "data": {
            "text/plain": [
              "ForecastingHorizon([ 1,  2,  3,  4,  5,  6,  7,  8,  9, 10, 11, 12, 13, 14, 15, 16, 17,\n",
              "            18, 19, 20, 21, 22, 23, 24, 25, 26, 27, 28, 29, 30, 31, 32, 33, 34,\n",
              "            35, 36],\n",
              "           dtype='int64', is_relative=True)"
            ]
          },
          "metadata": {},
          "execution_count": 142
        }
      ]
    },
    {
      "cell_type": "code",
      "source": [
        "fh.to_absolute(cutoff)"
      ],
      "metadata": {
        "colab": {
          "base_uri": "https://localhost:8080/"
        },
        "id": "CvsmVP9Jp-A-",
        "outputId": "5b72b799-2a08-4b73-ba37-0bbc9dbcc0b2"
      },
      "execution_count": 143,
      "outputs": [
        {
          "output_type": "execute_result",
          "data": {
            "text/plain": [
              "ForecastingHorizon(['1961-01', '1961-02', '1961-03', '1961-04', '1961-05', '1961-06',\n",
              "             '1961-07', '1961-08', '1961-09', '1961-10', '1961-11', '1961-12',\n",
              "             '1962-01', '1962-02', '1962-03', '1962-04', '1962-05', '1962-06',\n",
              "             '1962-07', '1962-08', '1962-09', '1962-10', '1962-11', '1962-12',\n",
              "             '1963-01', '1963-02', '1963-03', '1963-04', '1963-05', '1963-06',\n",
              "             '1963-07', '1963-08', '1963-09', '1963-10', '1963-11', '1963-12'],\n",
              "            dtype='period[M]', is_relative=False)"
            ]
          },
          "metadata": {},
          "execution_count": 143
        }
      ]
    },
    {
      "cell_type": "code",
      "source": [
        "# data specification\n",
        "y = load_airline()\n",
        "\n",
        "\n",
        "# specify forecasting horizon\n",
        "fh = np.arange(1, 37)\n",
        "\n",
        "# specify the forecasting algorithm\n",
        "forecaster = NaiveForecaster(strategy=\"last\", sp=12)\n",
        "\n",
        "# fit the forecaster\n",
        "forecaster.fit(y)\n",
        "\n",
        "# create predictions\n",
        "y_pred = forecaster.predict(fh)"
      ],
      "metadata": {
        "id": "2Y0i4yxjMcGC"
      },
      "execution_count": 200,
      "outputs": []
    },
    {
      "cell_type": "code",
      "source": [
        "# plot predictions and past data\n",
        "fig, ax = plotting.plot_series(y, y_pred, labels=[\"y\", \"y_pred\"],markers=['',''])\n",
        "ax.legend(loc='upper left', frameon=False)\n",
        "\n",
        "ax.get_lines()[0].set_c(\"silver\")\n",
        "ax.get_lines()[-1].set_c(\"black\")\n",
        "\n",
        "leg = ax.get_legend()\n",
        "leg.legendHandles[0].set_color('silver')\n",
        "leg.legendHandles[-1].set_color('black')"
      ],
      "metadata": {
        "id": "OBZ1SUdk8Y3m",
        "colab": {
          "base_uri": "https://localhost:8080/",
          "height": 265
        },
        "outputId": "42eeb7f3-b4a1-4407-f06a-65a9c28efcde"
      },
      "execution_count": 201,
      "outputs": [
        {
          "output_type": "display_data",
          "data": {
            "text/plain": [
              "<Figure size 1152x288 with 1 Axes>"
            ],
            "image/png": "[encoded data removed]"
          },
          "metadata": {
            "needs_background": "light"
          }
        }
      ]
    },
    {
      "cell_type": "code",
      "source": [
        "# There are many sktime forecasters: NaiveForecaster, Thetaforecaster, \n",
        "# NaiveVariance, Arima, Exponential smoothing, Multiplex forecaster,\n",
        "# TransformendTargetForecaster\n"
      ],
      "metadata": {
        "id": "eNw-n6mTOO2k"
      },
      "execution_count": 146,
      "outputs": []
    },
    {
      "cell_type": "code",
      "source": [
        "# 3. Univariate Theta Forecaster"
      ],
      "metadata": {
        "id": "JpwFYsJ6wh6S"
      },
      "execution_count": 214,
      "outputs": []
    },
    {
      "cell_type": "code",
      "source": [
        "# until fit, define how many periods we want to forecast ahead, e.g. 19\n",
        "\n",
        "y = load_airline()\n",
        "\n",
        "fh = np.arange(1, 20)\n",
        "\n",
        "forecaster = ThetaForecaster(sp=19)\n",
        "forecaster.fit(y, fh=fh)"
      ],
      "metadata": {
        "colab": {
          "base_uri": "https://localhost:8080/"
        },
        "id": "b-zaeI6FxFJw",
        "outputId": "5a36b92f-04a9-4db8-fb54-6d87a103cf72"
      },
      "execution_count": 202,
      "outputs": [
        {
          "output_type": "execute_result",
          "data": {
            "text/plain": [
              "ThetaForecaster(sp=19)"
            ]
          },
          "metadata": {},
          "execution_count": 202
        }
      ]
    },
    {
      "cell_type": "code",
      "source": [
        "# coverage has values between 0 and 1, it defines the width of filling\n",
        "# coverage is a special parameter of predict_interval\n",
        "coverage = 0.9\n",
        "y_pred_ints = forecaster.predict_interval(coverage=coverage)\n",
        "y_pred_ints"
      ],
      "metadata": {
        "colab": {
          "base_uri": "https://localhost:8080/",
          "height": 700
        },
        "id": "o0kmYYRyziP8",
        "outputId": "0ae070f0-c45d-41fb-e6a1-9f943462598a"
      },
      "execution_count": 203,
      "outputs": [
        {
          "output_type": "execute_result",
          "data": {
            "text/plain": [
              "           Coverage            \n",
              "                0.9            \n",
              "              lower       upper\n",
              "1961-01  358.832855  513.418721\n",
              "1961-02  358.907023  548.077036\n",
              "1961-03  347.574555  565.917856\n",
              "1961-04  324.508076  568.561965\n",
              "1961-05  305.382881  572.685713\n",
              "1961-06  279.265419  567.950901\n",
              "1961-07  288.904115  597.494153\n",
              "1961-08  287.475051  614.761340\n",
              "1961-09  285.633563  630.604314\n",
              "1961-10  274.000235  635.792057\n",
              "1961-11  255.493034  633.357859\n",
              "1961-12  246.323517  639.605006\n",
              "1962-01  225.983936  634.100136\n",
              "1962-02  234.368765  656.799040\n",
              "1962-03  221.413956  657.688916\n",
              "1962-04  237.332072  687.025684\n",
              "1962-05  237.832456  700.555751\n",
              "1962-06  228.819321  704.215315\n",
              "1962-07  214.369306  702.108842"
            ],
            "text/html": [
              "\n",
              "  <div id=\"df-7187bac8-db29-4de3-8e55-b05c3e09d5c5\">\n",
              "    <div class=\"colab-df-container\">\n",
              "      <div>\n",
              "<style scoped>\n",
              "    .dataframe tbody tr th:only-of-type {\n",
              "        vertical-align: middle;\n",
              "    }\n",
              "\n",
              "    .dataframe tbody tr th {\n",
              "        vertical-align: top;\n",
              "    }\n",
              "\n",
              "    .dataframe thead tr th {\n",
              "        text-align: left;\n",
              "    }\n",
              "</style>\n",
              "<table border=\"1\" class=\"dataframe\">\n",
              "  <thead>\n",
              "    <tr>\n",
              "      <th></th>\n",
              "      <th colspan=\"2\" halign=\"left\">Coverage</th>\n",
              "    </tr>\n",
              "    <tr>\n",
              "      <th></th>\n",
              "      <th colspan=\"2\" halign=\"left\">0.9</th>\n",
              "    </tr>\n",
              "    <tr>\n",
              "      <th></th>\n",
              "      <th>lower</th>\n",
              "      <th>upper</th>\n",
              "    </tr>\n",
              "  </thead>\n",
              "  <tbody>\n",
              "    <tr>\n",
              "      <th>1961-01</th>\n",
              "      <td>358.832855</td>\n",
              "      <td>513.418721</td>\n",
              "    </tr>\n",
              "    <tr>\n",
              "      <th>1961-02</th>\n",
              "      <td>358.907023</td>\n",
              "      <td>548.077036</td>\n",
              "    </tr>\n",
              "    <tr>\n",
              "      <th>1961-03</th>\n",
              "      <td>347.574555</td>\n",
              "      <td>565.917856</td>\n",
              "    </tr>\n",
              "    <tr>\n",
              "      <th>1961-04</th>\n",
              "      <td>324.508076</td>\n",
              "      <td>568.561965</td>\n",
              "    </tr>\n",
              "    <tr>\n",
              "      <th>1961-05</th>\n",
              "      <td>305.382881</td>\n",
              "      <td>572.685713</td>\n",
              "    </tr>\n",
              "    <tr>\n",
              "      <th>1961-06</th>\n",
              "      <td>279.265419</td>\n",
              "      <td>567.950901</td>\n",
              "    </tr>\n",
              "    <tr>\n",
              "      <th>1961-07</th>\n",
              "      <td>288.904115</td>\n",
              "      <td>597.494153</td>\n",
              "    </tr>\n",
              "    <tr>\n",
              "      <th>1961-08</th>\n",
              "      <td>287.475051</td>\n",
              "      <td>614.761340</td>\n",
              "    </tr>\n",
              "    <tr>\n",
              "      <th>1961-09</th>\n",
              "      <td>285.633563</td>\n",
              "      <td>630.604314</td>\n",
              "    </tr>\n",
              "    <tr>\n",
              "      <th>1961-10</th>\n",
              "      <td>274.000235</td>\n",
              "      <td>635.792057</td>\n",
              "    </tr>\n",
              "    <tr>\n",
              "      <th>1961-11</th>\n",
              "      <td>255.493034</td>\n",
              "      <td>633.357859</td>\n",
              "    </tr>\n",
              "    <tr>\n",
              "      <th>1961-12</th>\n",
              "      <td>246.323517</td>\n",
              "      <td>639.605006</td>\n",
              "    </tr>\n",
              "    <tr>\n",
              "      <th>1962-01</th>\n",
              "      <td>225.983936</td>\n",
              "      <td>634.100136</td>\n",
              "    </tr>\n",
              "    <tr>\n",
              "      <th>1962-02</th>\n",
              "      <td>234.368765</td>\n",
              "      <td>656.799040</td>\n",
              "    </tr>\n",
              "    <tr>\n",
              "      <th>1962-03</th>\n",
              "      <td>221.413956</td>\n",
              "      <td>657.688916</td>\n",
              "    </tr>\n",
              "    <tr>\n",
              "      <th>1962-04</th>\n",
              "      <td>237.332072</td>\n",
              "      <td>687.025684</td>\n",
              "    </tr>\n",
              "    <tr>\n",
              "      <th>1962-05</th>\n",
              "      <td>237.832456</td>\n",
              "      <td>700.555751</td>\n",
              "    </tr>\n",
              "    <tr>\n",
              "      <th>1962-06</th>\n",
              "      <td>228.819321</td>\n",
              "      <td>704.215315</td>\n",
              "    </tr>\n",
              "    <tr>\n",
              "      <th>1962-07</th>\n",
              "      <td>214.369306</td>\n",
              "      <td>702.108842</td>\n",
              "    </tr>\n",
              "  </tbody>\n",
              "</table>\n",
              "</div>\n",
              "      <button class=\"colab-df-convert\" onclick=\"convertToInteractive('df-7187bac8-db29-4de3-8e55-b05c3e09d5c5')\"\n",
              "              title=\"Convert this dataframe to an interactive table.\"\n",
              "              style=\"display:none;\">\n",
              "        \n",
              "  <svg xmlns=\"http://www.w3.org/2000/svg\" height=\"24px\"viewBox=\"0 0 24 24\"\n",
              "       width=\"24px\">\n",
              "    <path d=\"M0 0h24v24H0V0z\" fill=\"none\"/>\n",
              "    <path d=\"M18.56 5.44l.94 2.06.94-2.06 2.06-.94-2.06-.94-.94-2.06-.94 2.06-2.06.94zm-11 1L8.5 8.5l.94-2.06 2.06-.94-2.06-.94L8.5 2.5l-.94 2.06-2.06.94zm10 10l.94 2.06.94-2.06 2.06-.94-2.06-.94-.94-2.06-.94 2.06-2.06.94z\"/><path d=\"M17.41 7.96l-1.37-1.37c-.4-.4-.92-.59-1.43-.59-.52 0-1.04.2-1.43.59L10.3 9.45l-7.72 7.72c-.78.78-.78 2.05 0 2.83L4 21.41c.39.39.9.59 1.41.59.51 0 1.02-.2 1.41-.59l7.78-7.78 2.81-2.81c.8-.78.8-2.07 0-2.86zM5.41 20L4 18.59l7.72-7.72 1.47 1.35L5.41 20z\"/>\n",
              "  </svg>\n",
              "      </button>\n",
              "      \n",
              "  <style>\n",
              "    .colab-df-container {\n",
              "      display:flex;\n",
              "      flex-wrap:wrap;\n",
              "      gap: 12px;\n",
              "    }\n",
              "\n",
              "    .colab-df-convert {\n",
              "      background-color: #E8F0FE;\n",
              "      border: none;\n",
              "      border-radius: 50%;\n",
              "      cursor: pointer;\n",
              "      display: none;\n",
              "      fill: #1967D2;\n",
              "      height: 32px;\n",
              "      padding: 0 0 0 0;\n",
              "      width: 32px;\n",
              "    }\n",
              "\n",
              "    .colab-df-convert:hover {\n",
              "      background-color: #E2EBFA;\n",
              "      box-shadow: 0px 1px 2px rgba(60, 64, 67, 0.3), 0px 1px 3px 1px rgba(60, 64, 67, 0.15);\n",
              "      fill: #174EA6;\n",
              "    }\n",
              "\n",
              "    [theme=dark] .colab-df-convert {\n",
              "      background-color: #3B4455;\n",
              "      fill: #D2E3FC;\n",
              "    }\n",
              "\n",
              "    [theme=dark] .colab-df-convert:hover {\n",
              "      background-color: #434B5C;\n",
              "      box-shadow: 0px 1px 3px 1px rgba(0, 0, 0, 0.15);\n",
              "      filter: drop-shadow(0px 1px 2px rgba(0, 0, 0, 0.3));\n",
              "      fill: #FFFFFF;\n",
              "    }\n",
              "  </style>\n",
              "\n",
              "      <script>\n",
              "        const buttonEl =\n",
              "          document.querySelector('#df-7187bac8-db29-4de3-8e55-b05c3e09d5c5 button.colab-df-convert');\n",
              "        buttonEl.style.display =\n",
              "          google.colab.kernel.accessAllowed ? 'block' : 'none';\n",
              "\n",
              "        async function convertToInteractive(key) {\n",
              "          const element = document.querySelector('#df-7187bac8-db29-4de3-8e55-b05c3e09d5c5');\n",
              "          const dataTable =\n",
              "            await google.colab.kernel.invokeFunction('convertToInteractive',\n",
              "                                                     [key], {});\n",
              "          if (!dataTable) return;\n",
              "\n",
              "          const docLinkHtml = 'Like what you see? Visit the ' +\n",
              "            '<a target=\"_blank\" href=https://colab.research.google.com/notebooks/data_table.ipynb>data table notebook</a>'\n",
              "            + ' to learn more about interactive tables.';\n",
              "          element.innerHTML = '';\n",
              "          dataTable['output_type'] = 'display_data';\n",
              "          await google.colab.output.renderOutput(dataTable, element);\n",
              "          const docLink = document.createElement('div');\n",
              "          docLink.innerHTML = docLinkHtml;\n",
              "          element.appendChild(docLink);\n",
              "        }\n",
              "      </script>\n",
              "    </div>\n",
              "  </div>\n",
              "  "
            ]
          },
          "metadata": {},
          "execution_count": 203
        }
      ]
    },
    {
      "cell_type": "code",
      "source": [
        "from sktime.utils import plotting\n",
        "\n",
        "# create predictions\n",
        "y_pred = forecaster.predict()\n",
        "\n",
        "fig, ax = plotting.plot_series(y, y_pred, labels=[\"y\", \"y_pred\"])\n",
        "ax.get_lines()[0].set_c(\"silver\") # set color for y line\n",
        "ax.get_lines()[-1].set_c(\"black\") # set color for y_pred line\n",
        "ax.legend(loc='upper left', frameon=False)\n",
        "\n",
        "ax.fill_between(\n",
        "    ax.get_lines()[-1].get_xdata(),\n",
        "    y_pred_ints[\"Coverage\"][coverage][\"lower\"], # lower limit for filling\n",
        "    y_pred_ints[\"Coverage\"][coverage][\"upper\"], # upper limit for filling\n",
        "    alpha=0.1,# transparency of filling\n",
        "    color='k',\n",
        "    label=f\"{coverage}% prediction intervals\",\n",
        "\n",
        ")"
      ],
      "metadata": {
        "colab": {
          "base_uri": "https://localhost:8080/",
          "height": 282
        },
        "id": "54ptRlYXxFME",
        "outputId": "3e35a5c8-de0e-4a14-ec18-cef927aa0851"
      },
      "execution_count": 152,
      "outputs": [
        {
          "output_type": "execute_result",
          "data": {
            "text/plain": [
              "<matplotlib.collections.PolyCollection at 0x7f5123446c50>"
            ]
          },
          "metadata": {},
          "execution_count": 152
        },
        {
          "output_type": "display_data",
          "data": {
            "text/plain": [
              "<Figure size 1152x288 with 1 Axes>"
            ],
            "image/png": "[encoded data removed]"
          },
          "metadata": {
            "needs_background": "light"
          }
        }
      ]
    },
    {
      "cell_type": "code",
      "source": [
        "ax.get_lines()[-1].get_c()"
      ],
      "metadata": {
        "colab": {
          "base_uri": "https://localhost:8080/",
          "height": 37
        },
        "id": "0ed81OwWhKRB",
        "outputId": "d8313741-37a0-481c-84d5-7679223f9a5e"
      },
      "execution_count": 153,
      "outputs": [
        {
          "output_type": "execute_result",
          "data": {
            "text/plain": [
              "'black'"
            ],
            "application/vnd.google.colaboratory.intrinsic+json": {
              "type": "string"
            }
          },
          "metadata": {},
          "execution_count": 153
        }
      ]
    },
    {
      "cell_type": "code",
      "source": [
        "# 4. Univariate ARIMA with deseasonaliser and detrender\n",
        "# TransformedTargetForecasted has hardcoded statistical methodology to consider the season and trend as well"
      ],
      "metadata": {
        "id": "Y7WmK8XuznmQ"
      },
      "execution_count": 215,
      "outputs": []
    },
    {
      "cell_type": "code",
      "source": [
        "from sktime.datasets import load_macroeconomic\n",
        "from sktime.forecasting.arima import ARIMA\n",
        "from sktime.forecasting.compose import TransformedTargetForecaster\n",
        "from sktime.transformations.series.detrend import Deseasonalizer, Detrender"
      ],
      "metadata": {
        "id": "rBM3rjoOohUc"
      },
      "execution_count": 204,
      "outputs": []
    },
    {
      "cell_type": "code",
      "source": [
        "# use the available training time series dataset and only 1 Date variable and 1 Float variable\n",
        "data = load_macroeconomic()\n",
        "y = pd.Series(data[\"unemp\"], name='Unemployment')"
      ],
      "metadata": {
        "id": "D52kIl1Zohd8"
      },
      "execution_count": 206,
      "outputs": []
    },
    {
      "cell_type": "code",
      "source": [
        "y"
      ],
      "metadata": {
        "colab": {
          "base_uri": "https://localhost:8080/"
        },
        "id": "FA3worm6y3fX",
        "outputId": "eea1c75f-e026-45f1-e792-4deb0794939a"
      },
      "execution_count": 207,
      "outputs": [
        {
          "output_type": "execute_result",
          "data": {
            "text/plain": [
              "Period\n",
              "1959Q1    5.8\n",
              "1959Q2    5.1\n",
              "1959Q3    5.3\n",
              "1959Q4    5.6\n",
              "1960Q1    5.2\n",
              "         ... \n",
              "2008Q3    6.0\n",
              "2008Q4    6.9\n",
              "2009Q1    8.1\n",
              "2009Q2    9.2\n",
              "2009Q3    9.6\n",
              "Freq: Q-DEC, Name: Unemployment, Length: 203, dtype: float64"
            ]
          },
          "metadata": {},
          "execution_count": 207
        }
      ]
    },
    {
      "cell_type": "code",
      "source": [
        "# forecast 3 periods ahead\n",
        "forecaster = TransformedTargetForecaster(\n",
        "    [\n",
        "        (\"deseasonalize\", Deseasonalizer(sp=12)), # get the trend for 12 periods, 12 quarters, 3 years\n",
        "        (\"detrend\", Detrender()),\n",
        "        (\"forecast\", ARIMA()),\n",
        "    ]\n",
        ")\n",
        "\n",
        "forecaster.fit(y, fh=[1, 2, 3, 4, 5, 6, 7, 8, 9 ]) # forecast 9 periods, 9 quarters ahead\n",
        "forecaster.predict_interval()"
      ],
      "metadata": {
        "colab": {
          "base_uri": "https://localhost:8080/",
          "height": 390
        },
        "id": "YO6hC1X7ohhF",
        "outputId": "8e80e2ab-e09a-41ce-9756-4353c03551f8"
      },
      "execution_count": 208,
      "outputs": [
        {
          "output_type": "execute_result",
          "data": {
            "text/plain": [
              "        Coverage           \n",
              "             0.9           \n",
              "           lower      upper\n",
              "2009Q4  8.949103  10.068284\n",
              "2010Q1  8.639806  10.206350\n",
              "2010Q2  8.438112  10.337207\n",
              "2010Q3  8.253244  10.423975\n",
              "2010Q4  8.029028  10.431633\n",
              "2011Q1  7.866455  10.472162\n",
              "2011Q2  7.743391  10.530044\n",
              "2011Q3  7.518202  10.468011\n",
              "2011Q4  7.448026  10.546276"
            ],
            "text/html": [
              "\n",
              "  <div id=\"df-09bf658e-1d65-4633-b2dd-9a63b8d50b75\">\n",
              "    <div class=\"colab-df-container\">\n",
              "      <div>\n",
              "<style scoped>\n",
              "    .dataframe tbody tr th:only-of-type {\n",
              "        vertical-align: middle;\n",
              "    }\n",
              "\n",
              "    .dataframe tbody tr th {\n",
              "        vertical-align: top;\n",
              "    }\n",
              "\n",
              "    .dataframe thead tr th {\n",
              "        text-align: left;\n",
              "    }\n",
              "</style>\n",
              "<table border=\"1\" class=\"dataframe\">\n",
              "  <thead>\n",
              "    <tr>\n",
              "      <th></th>\n",
              "      <th colspan=\"2\" halign=\"left\">Coverage</th>\n",
              "    </tr>\n",
              "    <tr>\n",
              "      <th></th>\n",
              "      <th colspan=\"2\" halign=\"left\">0.9</th>\n",
              "    </tr>\n",
              "    <tr>\n",
              "      <th></th>\n",
              "      <th>lower</th>\n",
              "      <th>upper</th>\n",
              "    </tr>\n",
              "  </thead>\n",
              "  <tbody>\n",
              "    <tr>\n",
              "      <th>2009Q4</th>\n",
              "      <td>8.949103</td>\n",
              "      <td>10.068284</td>\n",
              "    </tr>\n",
              "    <tr>\n",
              "      <th>2010Q1</th>\n",
              "      <td>8.639806</td>\n",
              "      <td>10.206350</td>\n",
              "    </tr>\n",
              "    <tr>\n",
              "      <th>2010Q2</th>\n",
              "      <td>8.438112</td>\n",
              "      <td>10.337207</td>\n",
              "    </tr>\n",
              "    <tr>\n",
              "      <th>2010Q3</th>\n",
              "      <td>8.253244</td>\n",
              "      <td>10.423975</td>\n",
              "    </tr>\n",
              "    <tr>\n",
              "      <th>2010Q4</th>\n",
              "      <td>8.029028</td>\n",
              "      <td>10.431633</td>\n",
              "    </tr>\n",
              "    <tr>\n",
              "      <th>2011Q1</th>\n",
              "      <td>7.866455</td>\n",
              "      <td>10.472162</td>\n",
              "    </tr>\n",
              "    <tr>\n",
              "      <th>2011Q2</th>\n",
              "      <td>7.743391</td>\n",
              "      <td>10.530044</td>\n",
              "    </tr>\n",
              "    <tr>\n",
              "      <th>2011Q3</th>\n",
              "      <td>7.518202</td>\n",
              "      <td>10.468011</td>\n",
              "    </tr>\n",
              "    <tr>\n",
              "      <th>2011Q4</th>\n",
              "      <td>7.448026</td>\n",
              "      <td>10.546276</td>\n",
              "    </tr>\n",
              "  </tbody>\n",
              "</table>\n",
              "</div>\n",
              "      <button class=\"colab-df-convert\" onclick=\"convertToInteractive('df-09bf658e-1d65-4633-b2dd-9a63b8d50b75')\"\n",
              "              title=\"Convert this dataframe to an interactive table.\"\n",
              "              style=\"display:none;\">\n",
              "        \n",
              "  <svg xmlns=\"http://www.w3.org/2000/svg\" height=\"24px\"viewBox=\"0 0 24 24\"\n",
              "       width=\"24px\">\n",
              "    <path d=\"M0 0h24v24H0V0z\" fill=\"none\"/>\n",
              "    <path d=\"M18.56 5.44l.94 2.06.94-2.06 2.06-.94-2.06-.94-.94-2.06-.94 2.06-2.06.94zm-11 1L8.5 8.5l.94-2.06 2.06-.94-2.06-.94L8.5 2.5l-.94 2.06-2.06.94zm10 10l.94 2.06.94-2.06 2.06-.94-2.06-.94-.94-2.06-.94 2.06-2.06.94z\"/><path d=\"M17.41 7.96l-1.37-1.37c-.4-.4-.92-.59-1.43-.59-.52 0-1.04.2-1.43.59L10.3 9.45l-7.72 7.72c-.78.78-.78 2.05 0 2.83L4 21.41c.39.39.9.59 1.41.59.51 0 1.02-.2 1.41-.59l7.78-7.78 2.81-2.81c.8-.78.8-2.07 0-2.86zM5.41 20L4 18.59l7.72-7.72 1.47 1.35L5.41 20z\"/>\n",
              "  </svg>\n",
              "      </button>\n",
              "      \n",
              "  <style>\n",
              "    .colab-df-container {\n",
              "      display:flex;\n",
              "      flex-wrap:wrap;\n",
              "      gap: 12px;\n",
              "    }\n",
              "\n",
              "    .colab-df-convert {\n",
              "      background-color: #E8F0FE;\n",
              "      border: none;\n",
              "      border-radius: 50%;\n",
              "      cursor: pointer;\n",
              "      display: none;\n",
              "      fill: #1967D2;\n",
              "      height: 32px;\n",
              "      padding: 0 0 0 0;\n",
              "      width: 32px;\n",
              "    }\n",
              "\n",
              "    .colab-df-convert:hover {\n",
              "      background-color: #E2EBFA;\n",
              "      box-shadow: 0px 1px 2px rgba(60, 64, 67, 0.3), 0px 1px 3px 1px rgba(60, 64, 67, 0.15);\n",
              "      fill: #174EA6;\n",
              "    }\n",
              "\n",
              "    [theme=dark] .colab-df-convert {\n",
              "      background-color: #3B4455;\n",
              "      fill: #D2E3FC;\n",
              "    }\n",
              "\n",
              "    [theme=dark] .colab-df-convert:hover {\n",
              "      background-color: #434B5C;\n",
              "      box-shadow: 0px 1px 3px 1px rgba(0, 0, 0, 0.15);\n",
              "      filter: drop-shadow(0px 1px 2px rgba(0, 0, 0, 0.3));\n",
              "      fill: #FFFFFF;\n",
              "    }\n",
              "  </style>\n",
              "\n",
              "      <script>\n",
              "        const buttonEl =\n",
              "          document.querySelector('#df-09bf658e-1d65-4633-b2dd-9a63b8d50b75 button.colab-df-convert');\n",
              "        buttonEl.style.display =\n",
              "          google.colab.kernel.accessAllowed ? 'block' : 'none';\n",
              "\n",
              "        async function convertToInteractive(key) {\n",
              "          const element = document.querySelector('#df-09bf658e-1d65-4633-b2dd-9a63b8d50b75');\n",
              "          const dataTable =\n",
              "            await google.colab.kernel.invokeFunction('convertToInteractive',\n",
              "                                                     [key], {});\n",
              "          if (!dataTable) return;\n",
              "\n",
              "          const docLinkHtml = 'Like what you see? Visit the ' +\n",
              "            '<a target=\"_blank\" href=https://colab.research.google.com/notebooks/data_table.ipynb>data table notebook</a>'\n",
              "            + ' to learn more about interactive tables.';\n",
              "          element.innerHTML = '';\n",
              "          dataTable['output_type'] = 'display_data';\n",
              "          await google.colab.output.renderOutput(dataTable, element);\n",
              "          const docLink = document.createElement('div');\n",
              "          docLink.innerHTML = docLinkHtml;\n",
              "          element.appendChild(docLink);\n",
              "        }\n",
              "      </script>\n",
              "    </div>\n",
              "  </div>\n",
              "  "
            ]
          },
          "metadata": {},
          "execution_count": 208
        }
      ]
    },
    {
      "cell_type": "code",
      "source": [
        "forecaster.predict_quantiles()"
      ],
      "metadata": {
        "colab": {
          "base_uri": "https://localhost:8080/",
          "height": 359
        },
        "id": "iiGzV2OIoqE7",
        "outputId": "401255b2-30c9-413a-d6f9-d5b24dfdc06c"
      },
      "execution_count": 209,
      "outputs": [
        {
          "output_type": "execute_result",
          "data": {
            "text/plain": [
              "       Quantiles           \n",
              "            0.05       0.95\n",
              "2009Q4  8.949103  10.068284\n",
              "2010Q1  8.639806  10.206350\n",
              "2010Q2  8.438112  10.337207\n",
              "2010Q3  8.253244  10.423975\n",
              "2010Q4  8.029028  10.431633\n",
              "2011Q1  7.866455  10.472162\n",
              "2011Q2  7.743391  10.530044\n",
              "2011Q3  7.518202  10.468011\n",
              "2011Q4  7.448026  10.546276"
            ],
            "text/html": [
              "\n",
              "  <div id=\"df-47198812-81c6-4e77-8296-5911e17f0c11\">\n",
              "    <div class=\"colab-df-container\">\n",
              "      <div>\n",
              "<style scoped>\n",
              "    .dataframe tbody tr th:only-of-type {\n",
              "        vertical-align: middle;\n",
              "    }\n",
              "\n",
              "    .dataframe tbody tr th {\n",
              "        vertical-align: top;\n",
              "    }\n",
              "\n",
              "    .dataframe thead tr th {\n",
              "        text-align: left;\n",
              "    }\n",
              "</style>\n",
              "<table border=\"1\" class=\"dataframe\">\n",
              "  <thead>\n",
              "    <tr>\n",
              "      <th></th>\n",
              "      <th colspan=\"2\" halign=\"left\">Quantiles</th>\n",
              "    </tr>\n",
              "    <tr>\n",
              "      <th></th>\n",
              "      <th>0.05</th>\n",
              "      <th>0.95</th>\n",
              "    </tr>\n",
              "  </thead>\n",
              "  <tbody>\n",
              "    <tr>\n",
              "      <th>2009Q4</th>\n",
              "      <td>8.949103</td>\n",
              "      <td>10.068284</td>\n",
              "    </tr>\n",
              "    <tr>\n",
              "      <th>2010Q1</th>\n",
              "      <td>8.639806</td>\n",
              "      <td>10.206350</td>\n",
              "    </tr>\n",
              "    <tr>\n",
              "      <th>2010Q2</th>\n",
              "      <td>8.438112</td>\n",
              "      <td>10.337207</td>\n",
              "    </tr>\n",
              "    <tr>\n",
              "      <th>2010Q3</th>\n",
              "      <td>8.253244</td>\n",
              "      <td>10.423975</td>\n",
              "    </tr>\n",
              "    <tr>\n",
              "      <th>2010Q4</th>\n",
              "      <td>8.029028</td>\n",
              "      <td>10.431633</td>\n",
              "    </tr>\n",
              "    <tr>\n",
              "      <th>2011Q1</th>\n",
              "      <td>7.866455</td>\n",
              "      <td>10.472162</td>\n",
              "    </tr>\n",
              "    <tr>\n",
              "      <th>2011Q2</th>\n",
              "      <td>7.743391</td>\n",
              "      <td>10.530044</td>\n",
              "    </tr>\n",
              "    <tr>\n",
              "      <th>2011Q3</th>\n",
              "      <td>7.518202</td>\n",
              "      <td>10.468011</td>\n",
              "    </tr>\n",
              "    <tr>\n",
              "      <th>2011Q4</th>\n",
              "      <td>7.448026</td>\n",
              "      <td>10.546276</td>\n",
              "    </tr>\n",
              "  </tbody>\n",
              "</table>\n",
              "</div>\n",
              "      <button class=\"colab-df-convert\" onclick=\"convertToInteractive('df-47198812-81c6-4e77-8296-5911e17f0c11')\"\n",
              "              title=\"Convert this dataframe to an interactive table.\"\n",
              "              style=\"display:none;\">\n",
              "        \n",
              "  <svg xmlns=\"http://www.w3.org/2000/svg\" height=\"24px\"viewBox=\"0 0 24 24\"\n",
              "       width=\"24px\">\n",
              "    <path d=\"M0 0h24v24H0V0z\" fill=\"none\"/>\n",
              "    <path d=\"M18.56 5.44l.94 2.06.94-2.06 2.06-.94-2.06-.94-.94-2.06-.94 2.06-2.06.94zm-11 1L8.5 8.5l.94-2.06 2.06-.94-2.06-.94L8.5 2.5l-.94 2.06-2.06.94zm10 10l.94 2.06.94-2.06 2.06-.94-2.06-.94-.94-2.06-.94 2.06-2.06.94z\"/><path d=\"M17.41 7.96l-1.37-1.37c-.4-.4-.92-.59-1.43-.59-.52 0-1.04.2-1.43.59L10.3 9.45l-7.72 7.72c-.78.78-.78 2.05 0 2.83L4 21.41c.39.39.9.59 1.41.59.51 0 1.02-.2 1.41-.59l7.78-7.78 2.81-2.81c.8-.78.8-2.07 0-2.86zM5.41 20L4 18.59l7.72-7.72 1.47 1.35L5.41 20z\"/>\n",
              "  </svg>\n",
              "      </button>\n",
              "      \n",
              "  <style>\n",
              "    .colab-df-container {\n",
              "      display:flex;\n",
              "      flex-wrap:wrap;\n",
              "      gap: 12px;\n",
              "    }\n",
              "\n",
              "    .colab-df-convert {\n",
              "      background-color: #E8F0FE;\n",
              "      border: none;\n",
              "      border-radius: 50%;\n",
              "      cursor: pointer;\n",
              "      display: none;\n",
              "      fill: #1967D2;\n",
              "      height: 32px;\n",
              "      padding: 0 0 0 0;\n",
              "      width: 32px;\n",
              "    }\n",
              "\n",
              "    .colab-df-convert:hover {\n",
              "      background-color: #E2EBFA;\n",
              "      box-shadow: 0px 1px 2px rgba(60, 64, 67, 0.3), 0px 1px 3px 1px rgba(60, 64, 67, 0.15);\n",
              "      fill: #174EA6;\n",
              "    }\n",
              "\n",
              "    [theme=dark] .colab-df-convert {\n",
              "      background-color: #3B4455;\n",
              "      fill: #D2E3FC;\n",
              "    }\n",
              "\n",
              "    [theme=dark] .colab-df-convert:hover {\n",
              "      background-color: #434B5C;\n",
              "      box-shadow: 0px 1px 3px 1px rgba(0, 0, 0, 0.15);\n",
              "      filter: drop-shadow(0px 1px 2px rgba(0, 0, 0, 0.3));\n",
              "      fill: #FFFFFF;\n",
              "    }\n",
              "  </style>\n",
              "\n",
              "      <script>\n",
              "        const buttonEl =\n",
              "          document.querySelector('#df-47198812-81c6-4e77-8296-5911e17f0c11 button.colab-df-convert');\n",
              "        buttonEl.style.display =\n",
              "          google.colab.kernel.accessAllowed ? 'block' : 'none';\n",
              "\n",
              "        async function convertToInteractive(key) {\n",
              "          const element = document.querySelector('#df-47198812-81c6-4e77-8296-5911e17f0c11');\n",
              "          const dataTable =\n",
              "            await google.colab.kernel.invokeFunction('convertToInteractive',\n",
              "                                                     [key], {});\n",
              "          if (!dataTable) return;\n",
              "\n",
              "          const docLinkHtml = 'Like what you see? Visit the ' +\n",
              "            '<a target=\"_blank\" href=https://colab.research.google.com/notebooks/data_table.ipynb>data table notebook</a>'\n",
              "            + ' to learn more about interactive tables.';\n",
              "          element.innerHTML = '';\n",
              "          dataTable['output_type'] = 'display_data';\n",
              "          await google.colab.output.renderOutput(dataTable, element);\n",
              "          const docLink = document.createElement('div');\n",
              "          docLink.innerHTML = docLinkHtml;\n",
              "          element.appendChild(docLink);\n",
              "        }\n",
              "      </script>\n",
              "    </div>\n",
              "  </div>\n",
              "  "
            ]
          },
          "metadata": {},
          "execution_count": 209
        }
      ]
    },
    {
      "cell_type": "code",
      "source": [
        "forecaster = Deseasonalizer(sp=12) * Detrender() * ARIMA()"
      ],
      "metadata": {
        "id": "jh1kTW7SoqMQ"
      },
      "execution_count": 210,
      "outputs": []
    },
    {
      "cell_type": "code",
      "source": [
        "forecaster.fit(y, fh=[1, 2, 3, 4, 5, 6, 7, 8, 9])\n",
        "forecaster.predict_interval()"
      ],
      "metadata": {
        "colab": {
          "base_uri": "https://localhost:8080/",
          "height": 390
        },
        "id": "ulC6TpdzpfTJ",
        "outputId": "d447a6a2-571f-4590-eebf-e0ca0ba09636"
      },
      "execution_count": 211,
      "outputs": [
        {
          "output_type": "execute_result",
          "data": {
            "text/plain": [
              "        Coverage           \n",
              "             0.9           \n",
              "           lower      upper\n",
              "2009Q4  8.949103  10.068284\n",
              "2010Q1  8.639806  10.206350\n",
              "2010Q2  8.438112  10.337207\n",
              "2010Q3  8.253244  10.423975\n",
              "2010Q4  8.029028  10.431633\n",
              "2011Q1  7.866455  10.472162\n",
              "2011Q2  7.743391  10.530044\n",
              "2011Q3  7.518202  10.468011\n",
              "2011Q4  7.448026  10.546276"
            ],
            "text/html": [
              "\n",
              "  <div id=\"df-d7ac2800-5542-4ba3-ad96-409c9d91650f\">\n",
              "    <div class=\"colab-df-container\">\n",
              "      <div>\n",
              "<style scoped>\n",
              "    .dataframe tbody tr th:only-of-type {\n",
              "        vertical-align: middle;\n",
              "    }\n",
              "\n",
              "    .dataframe tbody tr th {\n",
              "        vertical-align: top;\n",
              "    }\n",
              "\n",
              "    .dataframe thead tr th {\n",
              "        text-align: left;\n",
              "    }\n",
              "</style>\n",
              "<table border=\"1\" class=\"dataframe\">\n",
              "  <thead>\n",
              "    <tr>\n",
              "      <th></th>\n",
              "      <th colspan=\"2\" halign=\"left\">Coverage</th>\n",
              "    </tr>\n",
              "    <tr>\n",
              "      <th></th>\n",
              "      <th colspan=\"2\" halign=\"left\">0.9</th>\n",
              "    </tr>\n",
              "    <tr>\n",
              "      <th></th>\n",
              "      <th>lower</th>\n",
              "      <th>upper</th>\n",
              "    </tr>\n",
              "  </thead>\n",
              "  <tbody>\n",
              "    <tr>\n",
              "      <th>2009Q4</th>\n",
              "      <td>8.949103</td>\n",
              "      <td>10.068284</td>\n",
              "    </tr>\n",
              "    <tr>\n",
              "      <th>2010Q1</th>\n",
              "      <td>8.639806</td>\n",
              "      <td>10.206350</td>\n",
              "    </tr>\n",
              "    <tr>\n",
              "      <th>2010Q2</th>\n",
              "      <td>8.438112</td>\n",
              "      <td>10.337207</td>\n",
              "    </tr>\n",
              "    <tr>\n",
              "      <th>2010Q3</th>\n",
              "      <td>8.253244</td>\n",
              "      <td>10.423975</td>\n",
              "    </tr>\n",
              "    <tr>\n",
              "      <th>2010Q4</th>\n",
              "      <td>8.029028</td>\n",
              "      <td>10.431633</td>\n",
              "    </tr>\n",
              "    <tr>\n",
              "      <th>2011Q1</th>\n",
              "      <td>7.866455</td>\n",
              "      <td>10.472162</td>\n",
              "    </tr>\n",
              "    <tr>\n",
              "      <th>2011Q2</th>\n",
              "      <td>7.743391</td>\n",
              "      <td>10.530044</td>\n",
              "    </tr>\n",
              "    <tr>\n",
              "      <th>2011Q3</th>\n",
              "      <td>7.518202</td>\n",
              "      <td>10.468011</td>\n",
              "    </tr>\n",
              "    <tr>\n",
              "      <th>2011Q4</th>\n",
              "      <td>7.448026</td>\n",
              "      <td>10.546276</td>\n",
              "    </tr>\n",
              "  </tbody>\n",
              "</table>\n",
              "</div>\n",
              "      <button class=\"colab-df-convert\" onclick=\"convertToInteractive('df-d7ac2800-5542-4ba3-ad96-409c9d91650f')\"\n",
              "              title=\"Convert this dataframe to an interactive table.\"\n",
              "              style=\"display:none;\">\n",
              "        \n",
              "  <svg xmlns=\"http://www.w3.org/2000/svg\" height=\"24px\"viewBox=\"0 0 24 24\"\n",
              "       width=\"24px\">\n",
              "    <path d=\"M0 0h24v24H0V0z\" fill=\"none\"/>\n",
              "    <path d=\"M18.56 5.44l.94 2.06.94-2.06 2.06-.94-2.06-.94-.94-2.06-.94 2.06-2.06.94zm-11 1L8.5 8.5l.94-2.06 2.06-.94-2.06-.94L8.5 2.5l-.94 2.06-2.06.94zm10 10l.94 2.06.94-2.06 2.06-.94-2.06-.94-.94-2.06-.94 2.06-2.06.94z\"/><path d=\"M17.41 7.96l-1.37-1.37c-.4-.4-.92-.59-1.43-.59-.52 0-1.04.2-1.43.59L10.3 9.45l-7.72 7.72c-.78.78-.78 2.05 0 2.83L4 21.41c.39.39.9.59 1.41.59.51 0 1.02-.2 1.41-.59l7.78-7.78 2.81-2.81c.8-.78.8-2.07 0-2.86zM5.41 20L4 18.59l7.72-7.72 1.47 1.35L5.41 20z\"/>\n",
              "  </svg>\n",
              "      </button>\n",
              "      \n",
              "  <style>\n",
              "    .colab-df-container {\n",
              "      display:flex;\n",
              "      flex-wrap:wrap;\n",
              "      gap: 12px;\n",
              "    }\n",
              "\n",
              "    .colab-df-convert {\n",
              "      background-color: #E8F0FE;\n",
              "      border: none;\n",
              "      border-radius: 50%;\n",
              "      cursor: pointer;\n",
              "      display: none;\n",
              "      fill: #1967D2;\n",
              "      height: 32px;\n",
              "      padding: 0 0 0 0;\n",
              "      width: 32px;\n",
              "    }\n",
              "\n",
              "    .colab-df-convert:hover {\n",
              "      background-color: #E2EBFA;\n",
              "      box-shadow: 0px 1px 2px rgba(60, 64, 67, 0.3), 0px 1px 3px 1px rgba(60, 64, 67, 0.15);\n",
              "      fill: #174EA6;\n",
              "    }\n",
              "\n",
              "    [theme=dark] .colab-df-convert {\n",
              "      background-color: #3B4455;\n",
              "      fill: #D2E3FC;\n",
              "    }\n",
              "\n",
              "    [theme=dark] .colab-df-convert:hover {\n",
              "      background-color: #434B5C;\n",
              "      box-shadow: 0px 1px 3px 1px rgba(0, 0, 0, 0.15);\n",
              "      filter: drop-shadow(0px 1px 2px rgba(0, 0, 0, 0.3));\n",
              "      fill: #FFFFFF;\n",
              "    }\n",
              "  </style>\n",
              "\n",
              "      <script>\n",
              "        const buttonEl =\n",
              "          document.querySelector('#df-d7ac2800-5542-4ba3-ad96-409c9d91650f button.colab-df-convert');\n",
              "        buttonEl.style.display =\n",
              "          google.colab.kernel.accessAllowed ? 'block' : 'none';\n",
              "\n",
              "        async function convertToInteractive(key) {\n",
              "          const element = document.querySelector('#df-d7ac2800-5542-4ba3-ad96-409c9d91650f');\n",
              "          const dataTable =\n",
              "            await google.colab.kernel.invokeFunction('convertToInteractive',\n",
              "                                                     [key], {});\n",
              "          if (!dataTable) return;\n",
              "\n",
              "          const docLinkHtml = 'Like what you see? Visit the ' +\n",
              "            '<a target=\"_blank\" href=https://colab.research.google.com/notebooks/data_table.ipynb>data table notebook</a>'\n",
              "            + ' to learn more about interactive tables.';\n",
              "          element.innerHTML = '';\n",
              "          dataTable['output_type'] = 'display_data';\n",
              "          await google.colab.output.renderOutput(dataTable, element);\n",
              "          const docLink = document.createElement('div');\n",
              "          docLink.innerHTML = docLinkHtml;\n",
              "          element.appendChild(docLink);\n",
              "        }\n",
              "      </script>\n",
              "    </div>\n",
              "  </div>\n",
              "  "
            ]
          },
          "metadata": {},
          "execution_count": 211
        }
      ]
    },
    {
      "cell_type": "code",
      "source": [
        "coverage = 0.9\n",
        "y_pred_ints = forecaster.predict_interval(coverage=coverage)\n",
        "y_pred_ints"
      ],
      "metadata": {
        "colab": {
          "base_uri": "https://localhost:8080/",
          "height": 390
        },
        "id": "iSlLXx0fqZkM",
        "outputId": "e71bf401-869c-4ab5-a571-b9c5cb5de63f"
      },
      "execution_count": 212,
      "outputs": [
        {
          "output_type": "execute_result",
          "data": {
            "text/plain": [
              "        Coverage           \n",
              "             0.9           \n",
              "           lower      upper\n",
              "2009Q4  8.949103  10.068284\n",
              "2010Q1  8.639806  10.206350\n",
              "2010Q2  8.438112  10.337207\n",
              "2010Q3  8.253244  10.423975\n",
              "2010Q4  8.029028  10.431633\n",
              "2011Q1  7.866455  10.472162\n",
              "2011Q2  7.743391  10.530044\n",
              "2011Q3  7.518202  10.468011\n",
              "2011Q4  7.448026  10.546276"
            ],
            "text/html": [
              "\n",
              "  <div id=\"df-25de0be7-cc61-457e-bef0-d86c99c421d1\">\n",
              "    <div class=\"colab-df-container\">\n",
              "      <div>\n",
              "<style scoped>\n",
              "    .dataframe tbody tr th:only-of-type {\n",
              "        vertical-align: middle;\n",
              "    }\n",
              "\n",
              "    .dataframe tbody tr th {\n",
              "        vertical-align: top;\n",
              "    }\n",
              "\n",
              "    .dataframe thead tr th {\n",
              "        text-align: left;\n",
              "    }\n",
              "</style>\n",
              "<table border=\"1\" class=\"dataframe\">\n",
              "  <thead>\n",
              "    <tr>\n",
              "      <th></th>\n",
              "      <th colspan=\"2\" halign=\"left\">Coverage</th>\n",
              "    </tr>\n",
              "    <tr>\n",
              "      <th></th>\n",
              "      <th colspan=\"2\" halign=\"left\">0.9</th>\n",
              "    </tr>\n",
              "    <tr>\n",
              "      <th></th>\n",
              "      <th>lower</th>\n",
              "      <th>upper</th>\n",
              "    </tr>\n",
              "  </thead>\n",
              "  <tbody>\n",
              "    <tr>\n",
              "      <th>2009Q4</th>\n",
              "      <td>8.949103</td>\n",
              "      <td>10.068284</td>\n",
              "    </tr>\n",
              "    <tr>\n",
              "      <th>2010Q1</th>\n",
              "      <td>8.639806</td>\n",
              "      <td>10.206350</td>\n",
              "    </tr>\n",
              "    <tr>\n",
              "      <th>2010Q2</th>\n",
              "      <td>8.438112</td>\n",
              "      <td>10.337207</td>\n",
              "    </tr>\n",
              "    <tr>\n",
              "      <th>2010Q3</th>\n",
              "      <td>8.253244</td>\n",
              "      <td>10.423975</td>\n",
              "    </tr>\n",
              "    <tr>\n",
              "      <th>2010Q4</th>\n",
              "      <td>8.029028</td>\n",
              "      <td>10.431633</td>\n",
              "    </tr>\n",
              "    <tr>\n",
              "      <th>2011Q1</th>\n",
              "      <td>7.866455</td>\n",
              "      <td>10.472162</td>\n",
              "    </tr>\n",
              "    <tr>\n",
              "      <th>2011Q2</th>\n",
              "      <td>7.743391</td>\n",
              "      <td>10.530044</td>\n",
              "    </tr>\n",
              "    <tr>\n",
              "      <th>2011Q3</th>\n",
              "      <td>7.518202</td>\n",
              "      <td>10.468011</td>\n",
              "    </tr>\n",
              "    <tr>\n",
              "      <th>2011Q4</th>\n",
              "      <td>7.448026</td>\n",
              "      <td>10.546276</td>\n",
              "    </tr>\n",
              "  </tbody>\n",
              "</table>\n",
              "</div>\n",
              "      <button class=\"colab-df-convert\" onclick=\"convertToInteractive('df-25de0be7-cc61-457e-bef0-d86c99c421d1')\"\n",
              "              title=\"Convert this dataframe to an interactive table.\"\n",
              "              style=\"display:none;\">\n",
              "        \n",
              "  <svg xmlns=\"http://www.w3.org/2000/svg\" height=\"24px\"viewBox=\"0 0 24 24\"\n",
              "       width=\"24px\">\n",
              "    <path d=\"M0 0h24v24H0V0z\" fill=\"none\"/>\n",
              "    <path d=\"M18.56 5.44l.94 2.06.94-2.06 2.06-.94-2.06-.94-.94-2.06-.94 2.06-2.06.94zm-11 1L8.5 8.5l.94-2.06 2.06-.94-2.06-.94L8.5 2.5l-.94 2.06-2.06.94zm10 10l.94 2.06.94-2.06 2.06-.94-2.06-.94-.94-2.06-.94 2.06-2.06.94z\"/><path d=\"M17.41 7.96l-1.37-1.37c-.4-.4-.92-.59-1.43-.59-.52 0-1.04.2-1.43.59L10.3 9.45l-7.72 7.72c-.78.78-.78 2.05 0 2.83L4 21.41c.39.39.9.59 1.41.59.51 0 1.02-.2 1.41-.59l7.78-7.78 2.81-2.81c.8-.78.8-2.07 0-2.86zM5.41 20L4 18.59l7.72-7.72 1.47 1.35L5.41 20z\"/>\n",
              "  </svg>\n",
              "      </button>\n",
              "      \n",
              "  <style>\n",
              "    .colab-df-container {\n",
              "      display:flex;\n",
              "      flex-wrap:wrap;\n",
              "      gap: 12px;\n",
              "    }\n",
              "\n",
              "    .colab-df-convert {\n",
              "      background-color: #E8F0FE;\n",
              "      border: none;\n",
              "      border-radius: 50%;\n",
              "      cursor: pointer;\n",
              "      display: none;\n",
              "      fill: #1967D2;\n",
              "      height: 32px;\n",
              "      padding: 0 0 0 0;\n",
              "      width: 32px;\n",
              "    }\n",
              "\n",
              "    .colab-df-convert:hover {\n",
              "      background-color: #E2EBFA;\n",
              "      box-shadow: 0px 1px 2px rgba(60, 64, 67, 0.3), 0px 1px 3px 1px rgba(60, 64, 67, 0.15);\n",
              "      fill: #174EA6;\n",
              "    }\n",
              "\n",
              "    [theme=dark] .colab-df-convert {\n",
              "      background-color: #3B4455;\n",
              "      fill: #D2E3FC;\n",
              "    }\n",
              "\n",
              "    [theme=dark] .colab-df-convert:hover {\n",
              "      background-color: #434B5C;\n",
              "      box-shadow: 0px 1px 3px 1px rgba(0, 0, 0, 0.15);\n",
              "      filter: drop-shadow(0px 1px 2px rgba(0, 0, 0, 0.3));\n",
              "      fill: #FFFFFF;\n",
              "    }\n",
              "  </style>\n",
              "\n",
              "      <script>\n",
              "        const buttonEl =\n",
              "          document.querySelector('#df-25de0be7-cc61-457e-bef0-d86c99c421d1 button.colab-df-convert');\n",
              "        buttonEl.style.display =\n",
              "          google.colab.kernel.accessAllowed ? 'block' : 'none';\n",
              "\n",
              "        async function convertToInteractive(key) {\n",
              "          const element = document.querySelector('#df-25de0be7-cc61-457e-bef0-d86c99c421d1');\n",
              "          const dataTable =\n",
              "            await google.colab.kernel.invokeFunction('convertToInteractive',\n",
              "                                                     [key], {});\n",
              "          if (!dataTable) return;\n",
              "\n",
              "          const docLinkHtml = 'Like what you see? Visit the ' +\n",
              "            '<a target=\"_blank\" href=https://colab.research.google.com/notebooks/data_table.ipynb>data table notebook</a>'\n",
              "            + ' to learn more about interactive tables.';\n",
              "          element.innerHTML = '';\n",
              "          dataTable['output_type'] = 'display_data';\n",
              "          await google.colab.output.renderOutput(dataTable, element);\n",
              "          const docLink = document.createElement('div');\n",
              "          docLink.innerHTML = docLinkHtml;\n",
              "          element.appendChild(docLink);\n",
              "        }\n",
              "      </script>\n",
              "    </div>\n",
              "  </div>\n",
              "  "
            ]
          },
          "metadata": {},
          "execution_count": 212
        }
      ]
    },
    {
      "cell_type": "code",
      "source": [
        "# create unemployment rate forecasts for given periods with lower and upper limits\n",
        "# see how the each further period has less clear forecasted values / variance / higher error\n",
        "y_pred = forecaster.predict()\n",
        "\n",
        "fig, ax = plotting.plot_series(y, y_pred, labels=[\"y\", \"y_pred\"],markers=['',''])\n",
        "ax.get_lines()[0].set_c(\"black\") # set color for y line\n",
        "ax.get_lines()[-1].set_c(\"silver\") # set color for y_pred line\n",
        "ax.legend(loc='upper left', frameon=False)\n",
        "\n",
        "leg = ax.get_legend()\n",
        "leg.legendHandles[0].set_color('black')\n",
        "leg.legendHandles[-1].set_color('silver')\n",
        "\n",
        "ax.fill_between(\n",
        "    ax.get_lines()[-1].get_xdata(),\n",
        "    y_pred_ints[\"Coverage\"][coverage][\"lower\"], # lower limit for filling\n",
        "    y_pred_ints[\"Coverage\"][coverage][\"upper\"], # upper limit for filling\n",
        "    alpha=0.1,# transparency of filling\n",
        "    color='k',\n",
        "    label=f\"{coverage}% prediction intervals\",\n",
        "\n",
        ")\n"
      ],
      "metadata": {
        "colab": {
          "base_uri": "https://localhost:8080/",
          "height": 285
        },
        "id": "3a8YwvVApf1W",
        "outputId": "84bdfc80-de3b-4b0d-b9be-cb0e46526cb6"
      },
      "execution_count": 213,
      "outputs": [
        {
          "output_type": "execute_result",
          "data": {
            "text/plain": [
              "<matplotlib.collections.PolyCollection at 0x7f5123c35690>"
            ]
          },
          "metadata": {},
          "execution_count": 213
        },
        {
          "output_type": "display_data",
          "data": {
            "text/plain": [
              "<Figure size 1152x288 with 1 Axes>"
            ],
            "image/png": "[encoded data removed]"
          },
          "metadata": {
            "needs_background": "light"
          }
        }
      ]
    },
    {
      "cell_type": "code",
      "source": [],
      "metadata": {
        "id": "RbEtGoLwohnI"
      },
      "execution_count": null,
      "outputs": []
    }
  ]
}