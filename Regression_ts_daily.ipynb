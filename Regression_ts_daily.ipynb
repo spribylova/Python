{
  "nbformat": 4,
  "nbformat_minor": 0,
  "metadata": {
    "colab": {
      "name": "Regression_ts_daily.ipynb",
      "provenance": [],
      "collapsed_sections": []
    },
    "kernelspec": {
      "name": "python3",
      "display_name": "Python 3"
    },
    "language_info": {
      "name": "python"
    }
  },
  "cells": [
    {
      "cell_type": "code",
      "execution_count": 1,
      "metadata": {
        "id": "w8Nd17VHyABe"
      },
      "outputs": [],
      "source": [
        "# ARMA - \n",
        "# ARIMA - \n",
        "# SARIMA - "
      ]
    },
    {
      "cell_type": "code",
      "source": [
        "pip install pandas-datareader"
      ],
      "metadata": {
        "colab": {
          "base_uri": "https://localhost:8080/"
        },
        "id": "IJsbAw34yH3t",
        "outputId": "7e8cc607-a8e8-419d-e754-144cbac72d06"
      },
      "execution_count": 2,
      "outputs": [
        {
          "output_type": "stream",
          "name": "stdout",
          "text": [
            "Requirement already satisfied: pandas-datareader in /usr/local/lib/python3.7/dist-packages (0.9.0)\n",
            "Requirement already satisfied: pandas>=0.23 in /usr/local/lib/python3.7/dist-packages (from pandas-datareader) (1.3.5)\n",
            "Requirement already satisfied: lxml in /usr/local/lib/python3.7/dist-packages (from pandas-datareader) (4.2.6)\n",
            "Requirement already satisfied: requests>=2.19.0 in /usr/local/lib/python3.7/dist-packages (from pandas-datareader) (2.23.0)\n",
            "Requirement already satisfied: python-dateutil>=2.7.3 in /usr/local/lib/python3.7/dist-packages (from pandas>=0.23->pandas-datareader) (2.8.2)\n",
            "Requirement already satisfied: pytz>=2017.3 in /usr/local/lib/python3.7/dist-packages (from pandas>=0.23->pandas-datareader) (2018.9)\n",
            "Requirement already satisfied: numpy>=1.17.3 in /usr/local/lib/python3.7/dist-packages (from pandas>=0.23->pandas-datareader) (1.21.5)\n",
            "Requirement already satisfied: six>=1.5 in /usr/local/lib/python3.7/dist-packages (from python-dateutil>=2.7.3->pandas>=0.23->pandas-datareader) (1.15.0)\n",
            "Requirement already satisfied: chardet<4,>=3.0.2 in /usr/local/lib/python3.7/dist-packages (from requests>=2.19.0->pandas-datareader) (3.0.4)\n",
            "Requirement already satisfied: certifi>=2017.4.17 in /usr/local/lib/python3.7/dist-packages (from requests>=2.19.0->pandas-datareader) (2021.10.8)\n",
            "Requirement already satisfied: urllib3!=1.25.0,!=1.25.1,<1.26,>=1.21.1 in /usr/local/lib/python3.7/dist-packages (from requests>=2.19.0->pandas-datareader) (1.24.3)\n",
            "Requirement already satisfied: idna<3,>=2.5 in /usr/local/lib/python3.7/dist-packages (from requests>=2.19.0->pandas-datareader) (2.10)\n"
          ]
        }
      ]
    },
    {
      "cell_type": "code",
      "source": [
        "# Datareader is suitable for real time stocks tracking, US government bonds and other as well.\n",
        "# Datetime is suitable for work with date formats.\n",
        "# Pandas, seaborn and matplotlib are basic liibrares."
      ],
      "metadata": {
        "id": "J3IZRQvSyZ5B"
      },
      "execution_count": 34,
      "outputs": []
    },
    {
      "cell_type": "code",
      "source": [
        "import pandas_datareader.data as web\n",
        "import pandas_datareader as pdr\n",
        "# pdr.get_data_fred('GS10')\n",
        "\n",
        "import datetime\n",
        "\n",
        "import pandas as pd \n",
        "import matplotlib.pyplot as plt\n",
        "import seaborn as sns"
      ],
      "metadata": {
        "id": "g-OwwpinSTl1"
      },
      "execution_count": 33,
      "outputs": []
    },
    {
      "cell_type": "code",
      "source": [
        "#"
      ],
      "metadata": {
        "id": "yDoPPl0UybsQ"
      },
      "execution_count": null,
      "outputs": []
    },
    {
      "cell_type": "code",
      "source": [
        "UBS_Close = pd.read_csv(\"UBS_volume_d.csv\")\n",
        "print(UBS_Close.head())"
      ],
      "metadata": {
        "colab": {
          "base_uri": "https://localhost:8080/"
        },
        "id": "evywC5mtyeNB",
        "outputId": "480ec579-2769-4ba5-c50f-a7234ee8f0f0"
      },
      "execution_count": 19,
      "outputs": [
        {
          "output_type": "stream",
          "name": "stdout",
          "text": [
            "         Date   Open   High    Low  Close      Volume\n",
            "0  03/22/2022  17.61  17.99  17.59  17.84  11,000,140\n",
            "1  03/21/2022  17.28  17.53  17.27  17.45   9,100,878\n",
            "2  03/18/2022  17.06  17.27  16.99  17.22  27,132,990\n",
            "3  03/17/2022  16.88  17.24  16.79  17.08  17,638,020\n",
            "4  03/16/2022  16.45  17.08  16.35  17.03  16,070,460\n"
          ]
        }
      ]
    },
    {
      "cell_type": "code",
      "source": [
        "UBS_Close.dtypes"
      ],
      "metadata": {
        "colab": {
          "base_uri": "https://localhost:8080/"
        },
        "id": "ooOZbiSozK44",
        "outputId": "3b225623-d591-4fd4-8b13-30bfaf8a2b7b"
      },
      "execution_count": 20,
      "outputs": [
        {
          "output_type": "execute_result",
          "data": {
            "text/plain": [
              "Date       object\n",
              "Open      float64\n",
              "High      float64\n",
              "Low       float64\n",
              "Close     float64\n",
              "Volume     object\n",
              "dtype: object"
            ]
          },
          "metadata": {},
          "execution_count": 20
        }
      ]
    },
    {
      "cell_type": "code",
      "source": [
        "# Convert Date in nanoseconds to simple 10 values string\n",
        "UBS_Close['Date_str'] = UBS_Close['Date'].astype(str)\n",
        "UBS_Close['Date_str10'] = UBS_Close['Date_str'].str[:10]\n",
        "UBS_Close.plot(figsize=(10,2),x='Date_str10', y='Close',color=\"tab:grey\", label='Close')"
      ],
      "metadata": {
        "colab": {
          "base_uri": "https://localhost:8080/",
          "height": 191
        },
        "id": "CusJNq2gzLAO",
        "outputId": "ce7237f9-4936-4e7f-fe34-0f47f4cc2fa9"
      },
      "execution_count": 22,
      "outputs": [
        {
          "output_type": "execute_result",
          "data": {
            "text/plain": [
              "<matplotlib.axes._subplots.AxesSubplot at 0x7f88b4011790>"
            ]
          },
          "metadata": {},
          "execution_count": 22
        },
        {
          "output_type": "display_data",
          "data": {
            "text/plain": [
              "<Figure size 720x144 with 1 Axes>"
            ],
            "image/png": "[encoded data removed]"
          },
          "metadata": {
            "needs_background": "light"
          }
        }
      ]
    },
    {
      "cell_type": "code",
      "source": [
        "# convert the string to datetime"
      ],
      "metadata": {
        "id": "NdfIjEIuWLpg"
      },
      "execution_count": null,
      "outputs": []
    },
    {
      "cell_type": "code",
      "source": [
        "UBS_Close['Date_dt'] =pd.to_datetime(UBS_Close.Date_str10)"
      ],
      "metadata": {
        "id": "WbgC61413Md7"
      },
      "execution_count": 24,
      "outputs": []
    },
    {
      "cell_type": "code",
      "source": [
        "# revise the changed date formats"
      ],
      "metadata": {
        "id": "HtO5WsTfWVCf"
      },
      "execution_count": 29,
      "outputs": []
    },
    {
      "cell_type": "code",
      "source": [
        "UBS_Close.dtypes"
      ],
      "metadata": {
        "colab": {
          "base_uri": "https://localhost:8080/"
        },
        "id": "3K-P6iDLWVKT",
        "outputId": "9a6f962e-fd88-4b7b-b6d9-8bb5dbe8ec35"
      },
      "execution_count": 106,
      "outputs": [
        {
          "output_type": "execute_result",
          "data": {
            "text/plain": [
              "Date                  object\n",
              "Open                 float64\n",
              "High                 float64\n",
              "Low                  float64\n",
              "Close                float64\n",
              "Volume                object\n",
              "Date_str              object\n",
              "Date_str10            object\n",
              "Date_dt       datetime64[ns]\n",
              "forecast             float64\n",
              "dtype: object"
            ]
          },
          "metadata": {},
          "execution_count": 106
        }
      ]
    },
    {
      "cell_type": "code",
      "source": [
        "print(UBS_Close.head())"
      ],
      "metadata": {
        "colab": {
          "base_uri": "https://localhost:8080/"
        },
        "id": "B29SKWX_0nnF",
        "outputId": "23e36c89-4340-4c55-de9e-963453438541"
      },
      "execution_count": 61,
      "outputs": [
        {
          "output_type": "stream",
          "name": "stdout",
          "text": [
            "                  Date   Open   High    Low  Close      Volume    Date_str  \\\n",
            "Date_dt                                                                      \n",
            "2022-03-22  03/22/2022  17.61  17.99  17.59  17.84  11,000,140  03/22/2022   \n",
            "2022-03-21  03/21/2022  17.28  17.53  17.27  17.45   9,100,878  03/21/2022   \n",
            "2022-03-18  03/18/2022  17.06  17.27  16.99  17.22  27,132,990  03/18/2022   \n",
            "2022-03-17  03/17/2022  16.88  17.24  16.79  17.08  17,638,020  03/17/2022   \n",
            "2022-03-16  03/16/2022  16.45  17.08  16.35  17.03  16,070,460  03/16/2022   \n",
            "\n",
            "            Date_str10    Date_dt  \n",
            "Date_dt                            \n",
            "2022-03-22  03/22/2022 2022-03-22  \n",
            "2022-03-21  03/21/2022 2022-03-21  \n",
            "2022-03-18  03/18/2022 2022-03-18  \n",
            "2022-03-17  03/17/2022 2022-03-17  \n",
            "2022-03-16  03/16/2022 2022-03-16  \n"
          ]
        }
      ]
    },
    {
      "cell_type": "code",
      "source": [
        "# set up the new index for plt and print the graph"
      ],
      "metadata": {
        "id": "QGfhKYWl5cSi"
      },
      "execution_count": null,
      "outputs": []
    },
    {
      "cell_type": "code",
      "source": [
        "UBS_Close.index = pd.to_datetime(UBS_Close['Date_dt'], format='%Y-%m-%d')"
      ],
      "metadata": {
        "id": "tAFjTnVk5ckj"
      },
      "execution_count": 62,
      "outputs": []
    },
    {
      "cell_type": "code",
      "source": [
        "plt.plot(UBS_Close.index, UBS_Close['Close'],color='grey')"
      ],
      "metadata": {
        "colab": {
          "base_uri": "https://localhost:8080/",
          "height": 284
        },
        "id": "3S_VWbD04xwq",
        "outputId": "2f7cba91-39a0-4ffc-a0d7-b9894488a992"
      },
      "execution_count": 63,
      "outputs": [
        {
          "output_type": "execute_result",
          "data": {
            "text/plain": [
              "[<matplotlib.lines.Line2D at 0x7f88900f3a50>]"
            ]
          },
          "metadata": {},
          "execution_count": 63
        },
        {
          "output_type": "display_data",
          "data": {
            "text/plain": [
              "<Figure size 432x288 with 1 Axes>"
            ],
            "image/png": "[encoded data removed]"
          },
          "metadata": {
            "needs_background": "light"
          }
        }
      ]
    },
    {
      "cell_type": "code",
      "source": [
        "#"
      ],
      "metadata": {
        "id": "9X4bxuJ04xz6"
      },
      "execution_count": null,
      "outputs": []
    },
    {
      "cell_type": "code",
      "source": [
        "train = UBS_Close[UBS_Close.index < pd.to_datetime(\"2022-01-01\", format='%Y-%m-%d')]\n",
        "test = UBS_Close[UBS_Close.index > pd.to_datetime(\"2022-01-01\", format='%Y-%m-%d')]"
      ],
      "metadata": {
        "id": "OPTTJA1H4oXW"
      },
      "execution_count": 145,
      "outputs": []
    },
    {
      "cell_type": "code",
      "source": [
        "len( train )"
      ],
      "metadata": {
        "colab": {
          "base_uri": "https://localhost:8080/"
        },
        "id": "kEQCKa7C2JVu",
        "outputId": "e4ec1bc4-e485-41a8-d9ed-e56925bd9192"
      },
      "execution_count": 146,
      "outputs": [
        {
          "output_type": "execute_result",
          "data": {
            "text/plain": [
              "199"
            ]
          },
          "metadata": {},
          "execution_count": 146
        }
      ]
    },
    {
      "cell_type": "code",
      "source": [
        "len( test )"
      ],
      "metadata": {
        "colab": {
          "base_uri": "https://localhost:8080/"
        },
        "id": "9PIB3T0-2Jg6",
        "outputId": "1f96f1ec-7598-4b38-df94-dacbd78b71a7"
      },
      "execution_count": 147,
      "outputs": [
        {
          "output_type": "execute_result",
          "data": {
            "text/plain": [
              "57"
            ]
          },
          "metadata": {},
          "execution_count": 147
        }
      ]
    },
    {
      "cell_type": "code",
      "source": [
        "#"
      ],
      "metadata": {
        "id": "HXNJH89z9DPe"
      },
      "execution_count": null,
      "outputs": []
    },
    {
      "cell_type": "code",
      "source": [
        "from statsmodels import tsa\n",
        "import statsmodels.api as sm\n",
        "from scipy import stats"
      ],
      "metadata": {
        "id": "OJ_xbSSXhZMZ"
      },
      "execution_count": 91,
      "outputs": []
    },
    {
      "cell_type": "code",
      "source": [
        "# from statsmodels.tsa.arima_model import ARIMA"
      ],
      "metadata": {
        "id": "mYvXEb3QdVOk"
      },
      "execution_count": 76,
      "outputs": []
    },
    {
      "cell_type": "code",
      "source": [
        "# from statsmodels.tsa.arima_model import ARMA"
      ],
      "metadata": {
        "id": "VTU8zLr7eOF1"
      },
      "execution_count": 79,
      "outputs": []
    },
    {
      "cell_type": "code",
      "source": [
        "from statsmodels.tsa.statespace.sarimax import SARIMAX"
      ],
      "metadata": {
        "id": "huMz630e5yCM"
      },
      "execution_count": 85,
      "outputs": []
    },
    {
      "cell_type": "code",
      "source": [
        "import statsmodels.api as sm"
      ],
      "metadata": {
        "id": "GJDKIkCRjR1N"
      },
      "execution_count": 96,
      "outputs": []
    },
    {
      "cell_type": "code",
      "source": [
        "model=sm.tsa.statespace.SARIMAX(UBS_Close['Close'],order=(1, 1, 1),seasonal_order=(1,1,1,12))"
      ],
      "metadata": {
        "colab": {
          "base_uri": "https://localhost:8080/"
        },
        "id": "eDH5RnaVjTZc",
        "outputId": "6f2804c6-6b10-4a73-bb48-092449143b71"
      },
      "execution_count": 97,
      "outputs": [
        {
          "output_type": "stream",
          "name": "stderr",
          "text": [
            "/usr/local/lib/python3.7/dist-packages/statsmodels/tsa/base/tsa_model.py:219: ValueWarning: A date index has been provided, but it has no associated frequency information and so will be ignored when e.g. forecasting.\n",
            "  ' ignored when e.g. forecasting.', ValueWarning)\n"
          ]
        }
      ]
    },
    {
      "cell_type": "code",
      "source": [
        "results=model.fit()"
      ],
      "metadata": {
        "id": "jZcg2URtint6"
      },
      "execution_count": 99,
      "outputs": []
    },
    {
      "cell_type": "code",
      "source": [
        "results.summary()"
      ],
      "metadata": {
        "colab": {
          "base_uri": "https://localhost:8080/",
          "height": 465
        },
        "id": "vSOgxKEMin3M",
        "outputId": "fad4ca44-9058-4e52-cdb3-62497713cde0"
      },
      "execution_count": 100,
      "outputs": [
        {
          "output_type": "execute_result",
          "data": {
            "text/plain": [
              "<class 'statsmodels.iolib.summary.Summary'>\n",
              "\"\"\"\n",
              "                                 Statespace Model Results                                 \n",
              "==========================================================================================\n",
              "Dep. Variable:                              Close   No. Observations:                  256\n",
              "Model:             SARIMAX(1, 1, 1)x(1, 1, 1, 12)   Log Likelihood                 -62.009\n",
              "Date:                            Fri, 15 Apr 2022   AIC                            134.018\n",
              "Time:                                    09:30:12   BIC                            151.483\n",
              "Sample:                                         0   HQIC                           141.053\n",
              "                                            - 256                                         \n",
              "Covariance Type:                              opg                                         \n",
              "==============================================================================\n",
              "                 coef    std err          z      P>|z|      [0.025      0.975]\n",
              "------------------------------------------------------------------------------\n",
              "ar.L1          0.9582      0.065     14.751      0.000       0.831       1.085\n",
              "ma.L1         -0.9964      0.312     -3.191      0.001      -1.608      -0.384\n",
              "ar.S.L12      -0.1594      0.063     -2.539      0.011      -0.282      -0.036\n",
              "ma.S.L12      -0.9997     27.968     -0.036      0.971     -55.817      53.818\n",
              "sigma2         0.0815      2.270      0.036      0.971      -4.368       4.531\n",
              "===================================================================================\n",
              "Ljung-Box (Q):                       38.86   Jarque-Bera (JB):               182.10\n",
              "Prob(Q):                              0.52   Prob(JB):                         0.00\n",
              "Heteroskedasticity (H):               0.23   Skew:                             0.51\n",
              "Prob(H) (two-sided):                  0.00   Kurtosis:                         7.12\n",
              "===================================================================================\n",
              "\n",
              "Warnings:\n",
              "[1] Covariance matrix calculated using the outer product of gradients (complex-step).\n",
              "\"\"\""
            ],
            "text/html": [
              "<table class=\"simpletable\">\n",
              "<caption>Statespace Model Results</caption>\n",
              "<tr>\n",
              "  <th>Dep. Variable:</th>                <td>Close</td>             <th>  No. Observations:  </th>   <td>256</td>  \n",
              "</tr>\n",
              "<tr>\n",
              "  <th>Model:</th>           <td>SARIMAX(1, 1, 1)x(1, 1, 1, 12)</td> <th>  Log Likelihood     </th> <td>-62.009</td>\n",
              "</tr>\n",
              "<tr>\n",
              "  <th>Date:</th>                   <td>Fri, 15 Apr 2022</td>        <th>  AIC                </th> <td>134.018</td>\n",
              "</tr>\n",
              "<tr>\n",
              "  <th>Time:</th>                       <td>09:30:12</td>            <th>  BIC                </th> <td>151.483</td>\n",
              "</tr>\n",
              "<tr>\n",
              "  <th>Sample:</th>                         <td>0</td>               <th>  HQIC               </th> <td>141.053</td>\n",
              "</tr>\n",
              "<tr>\n",
              "  <th></th>                             <td> - 256</td>             <th>                     </th>    <td> </td>   \n",
              "</tr>\n",
              "<tr>\n",
              "  <th>Covariance Type:</th>               <td>opg</td>              <th>                     </th>    <td> </td>   \n",
              "</tr>\n",
              "</table>\n",
              "<table class=\"simpletable\">\n",
              "<tr>\n",
              "      <td></td>        <th>coef</th>     <th>std err</th>      <th>z</th>      <th>P>|z|</th>  <th>[0.025</th>    <th>0.975]</th>  \n",
              "</tr>\n",
              "<tr>\n",
              "  <th>ar.L1</th>    <td>    0.9582</td> <td>    0.065</td> <td>   14.751</td> <td> 0.000</td> <td>    0.831</td> <td>    1.085</td>\n",
              "</tr>\n",
              "<tr>\n",
              "  <th>ma.L1</th>    <td>   -0.9964</td> <td>    0.312</td> <td>   -3.191</td> <td> 0.001</td> <td>   -1.608</td> <td>   -0.384</td>\n",
              "</tr>\n",
              "<tr>\n",
              "  <th>ar.S.L12</th> <td>   -0.1594</td> <td>    0.063</td> <td>   -2.539</td> <td> 0.011</td> <td>   -0.282</td> <td>   -0.036</td>\n",
              "</tr>\n",
              "<tr>\n",
              "  <th>ma.S.L12</th> <td>   -0.9997</td> <td>   27.968</td> <td>   -0.036</td> <td> 0.971</td> <td>  -55.817</td> <td>   53.818</td>\n",
              "</tr>\n",
              "<tr>\n",
              "  <th>sigma2</th>   <td>    0.0815</td> <td>    2.270</td> <td>    0.036</td> <td> 0.971</td> <td>   -4.368</td> <td>    4.531</td>\n",
              "</tr>\n",
              "</table>\n",
              "<table class=\"simpletable\">\n",
              "<tr>\n",
              "  <th>Ljung-Box (Q):</th>          <td>38.86</td> <th>  Jarque-Bera (JB):  </th> <td>182.10</td>\n",
              "</tr>\n",
              "<tr>\n",
              "  <th>Prob(Q):</th>                <td>0.52</td>  <th>  Prob(JB):          </th>  <td>0.00</td> \n",
              "</tr>\n",
              "<tr>\n",
              "  <th>Heteroskedasticity (H):</th> <td>0.23</td>  <th>  Skew:              </th>  <td>0.51</td> \n",
              "</tr>\n",
              "<tr>\n",
              "  <th>Prob(H) (two-sided):</th>    <td>0.00</td>  <th>  Kurtosis:          </th>  <td>7.12</td> \n",
              "</tr>\n",
              "</table><br/><br/>Warnings:<br/>[1] Covariance matrix calculated using the outer product of gradients (complex-step)."
            ]
          },
          "metadata": {},
          "execution_count": 100
        }
      ]
    },
    {
      "cell_type": "code",
      "source": [
        "UBS_Close.count()"
      ],
      "metadata": {
        "colab": {
          "base_uri": "https://localhost:8080/"
        },
        "id": "4LboXB-uqo1x",
        "outputId": "f6caba85-4609-47a8-c535-17abe8e20aaf"
      },
      "execution_count": 133,
      "outputs": [
        {
          "output_type": "execute_result",
          "data": {
            "text/plain": [
              "Date          256\n",
              "Open          256\n",
              "High          256\n",
              "Low           256\n",
              "Close         256\n",
              "Volume        256\n",
              "Date_str      256\n",
              "Date_str10    256\n",
              "Date_dt       256\n",
              "forecast       51\n",
              "dtype: int64"
            ]
          },
          "metadata": {},
          "execution_count": 133
        }
      ]
    },
    {
      "cell_type": "code",
      "source": [
        "results.predict(start=199,end=199+57-1,dynamic=True)"
      ],
      "metadata": {
        "colab": {
          "base_uri": "https://localhost:8080/"
        },
        "id": "ke_TBmdQjy0w",
        "outputId": "33e8bfcf-24b4-4c97-b1de-90e589738ebf"
      },
      "execution_count": 148,
      "outputs": [
        {
          "output_type": "execute_result",
          "data": {
            "text/plain": [
              "Date_dt\n",
              "2021-06-14    14.695365\n",
              "2021-06-11    14.583516\n",
              "2021-06-10    14.617033\n",
              "2021-06-09    14.676899\n",
              "2021-06-08    14.577756\n",
              "2021-06-07    14.505204\n",
              "2021-06-04    14.551797\n",
              "2021-06-03    14.584800\n",
              "2021-06-02    14.535966\n",
              "2021-06-01    14.486647\n",
              "2021-05-31    14.347853\n",
              "2021-05-28    14.247073\n",
              "2021-05-27    14.254627\n",
              "2021-05-26    14.186467\n",
              "2021-05-25    14.209998\n",
              "2021-05-21    14.285760\n",
              "2021-05-20    14.200563\n",
              "2021-05-19    14.127965\n",
              "2021-05-18    14.169685\n",
              "2021-05-17    14.210966\n",
              "2021-05-14    14.184884\n",
              "2021-05-12    14.194898\n",
              "2021-05-11    14.070567\n",
              "2021-05-10    14.005143\n",
              "2021-05-07    14.018746\n",
              "2021-05-06    13.946698\n",
              "2021-05-05    13.974767\n",
              "2021-05-04    14.050819\n",
              "2021-05-03    13.966104\n",
              "2021-04-30    13.896106\n",
              "2021-04-29    13.941087\n",
              "2021-04-28    13.983428\n",
              "2021-04-27    13.955999\n",
              "2021-04-26    13.958741\n",
              "2021-04-23    13.834197\n",
              "2021-04-22    13.765144\n",
              "2021-04-21    13.779705\n",
              "2021-04-20    13.710117\n",
              "2021-04-19    13.739228\n",
              "2021-04-16    13.816925\n",
              "2021-04-15    13.733753\n",
              "2021-04-14    13.664893\n",
              "2021-04-13    13.710841\n",
              "2021-04-12    13.754438\n",
              "2021-04-09    13.728589\n",
              "2021-04-08    13.733798\n",
              "2021-04-07    13.610542\n",
              "2021-04-06    13.543269\n",
              "2021-04-01    13.558828\n",
              "2021-03-31    13.489951\n",
              "2021-03-30    13.519952\n",
              "2021-03-29    13.598399\n",
              "2021-03-26    13.515951\n",
              "2021-03-25    13.447839\n",
              "2021-03-24    13.494523\n",
              "2021-03-23    13.538774\n",
              "2021-03-22    13.513491\n",
              "dtype: float64"
            ]
          },
          "metadata": {},
          "execution_count": 148
        }
      ]
    },
    {
      "cell_type": "code",
      "source": [
        "UBS_Close.drop('forecast', inplace=True, axis=1)"
      ],
      "metadata": {
        "id": "GWgbNs8ArgCl"
      },
      "execution_count": 153,
      "outputs": []
    },
    {
      "cell_type": "code",
      "source": [
        "UBS_Close['forecast']=results.predict(start=199,end=199+57-1,dynamic=True)"
      ],
      "metadata": {
        "id": "rbYB8ngPjzEk"
      },
      "execution_count": 156,
      "outputs": []
    },
    {
      "cell_type": "code",
      "source": [
        "UBS_Close[['Close','forecast']].plot(figsize=(12,8))"
      ],
      "metadata": {
        "colab": {
          "base_uri": "https://localhost:8080/",
          "height": 491
        },
        "id": "4-Ar7u23pmXh",
        "outputId": "aa5088ee-aca3-46f3-bbca-d9854bf6df0e"
      },
      "execution_count": 157,
      "outputs": [
        {
          "output_type": "execute_result",
          "data": {
            "text/plain": [
              "<matplotlib.axes._subplots.AxesSubplot at 0x7f888fafced0>"
            ]
          },
          "metadata": {},
          "execution_count": 157
        },
        {
          "output_type": "display_data",
          "data": {
            "text/plain": [
              "<Figure size 864x576 with 1 Axes>"
            ],
            "image/png": "[encoded data removed]"
          },
          "metadata": {
            "needs_background": "light"
          }
        }
      ]
    },
    {
      "cell_type": "code",
      "source": [
        ""
      ],
      "metadata": {
        "id": "90N7cXrTpmce"
      },
      "execution_count": null,
      "outputs": []
    },
    {
      "cell_type": "code",
      "source": [
        "#"
      ],
      "metadata": {
        "id": "rFRNxp2d9CNE"
      },
      "execution_count": null,
      "outputs": []
    },
    {
      "cell_type": "code",
      "source": [
        "#"
      ],
      "metadata": {
        "id": "kWsKlBrM9Bp1"
      },
      "execution_count": null,
      "outputs": []
    },
    {
      "cell_type": "code",
      "source": [
        ""
      ],
      "metadata": {
        "id": "DKLijILS8BqM"
      },
      "execution_count": 56,
      "outputs": []
    },
    {
      "cell_type": "code",
      "source": [
        ""
      ],
      "metadata": {
        "id": "LbIzv-AV_pFO"
      },
      "execution_count": null,
      "outputs": []
    }
  ]
}